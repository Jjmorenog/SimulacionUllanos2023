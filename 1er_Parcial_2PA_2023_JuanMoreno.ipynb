{
  "nbformat": 4,
  "nbformat_minor": 0,
  "metadata": {
    "colab": {
      "provenance": []
    },
    "kernelspec": {
      "name": "python3",
      "display_name": "Python 3"
    },
    "language_info": {
      "name": "python"
    }
  },
  "cells": [
    {
      "cell_type": "markdown",
      "metadata": {
        "id": "NcUVYAj6yDcG"
      },
      "source": [
        "# 1er Parcial - Simulación Computacional 2PA-2023\n",
        "Septiembre 25 de 2023 - Máxima hora de entrega: 10:00 am"
      ]
    },
    {
      "cell_type": "markdown",
      "source": [
        "## Librerías y dependencias"
      ],
      "metadata": {
        "id": "_peDth0M4CFT"
      }
    },
    {
      "cell_type": "code",
      "source": [
        "import math\n",
        "import numpy as np\n",
        "from scipy.stats import chi2"
      ],
      "metadata": {
        "id": "xfL1DWte4C8p"
      },
      "execution_count": null,
      "outputs": []
    },
    {
      "cell_type": "markdown",
      "metadata": {
        "id": "dzIJQcIOeV0s"
      },
      "source": [
        "## 1.  (1 punto)\n",
        "Para los siguientes generadores encuentre los 100 primeros números pseudoaleatorios $u_1,...,u_{100}$ e indique el tamaño del ciclo (si lo tiene)\n",
        "\n"
      ]
    },
    {
      "cell_type": "markdown",
      "metadata": {
        "id": "-NEKUWVyeaTb"
      },
      "source": [
        "**a)** Generador congruencial mixto: $x_0=17, x_n = (15x_{n-1} + 3) \\mod 48$"
      ]
    },
    {
      "cell_type": "markdown",
      "metadata": {
        "id": "Zc9x7rG-emZB"
      },
      "source": [
        "**b)** Generador Mid-Square con $x_0=2023$"
      ]
    },
    {
      "cell_type": "markdown",
      "source": [
        "**c)** Generador Mid-Square con $x_0=123713$"
      ],
      "metadata": {
        "id": "6I-64LW2Ew1k"
      }
    },
    {
      "cell_type": "markdown",
      "metadata": {
        "id": "8ySsITk0LkCT"
      },
      "source": [
        "**d)** Generador congruencial mixto: $x_0=621, x_n = (101x_{n-1}+31) \\mod 19$"
      ]
    },
    {
      "cell_type": "code",
      "source": [
        "#Congruncial mixto\n",
        "def CongMixto(seed, a, c, m, n):\n",
        "    # Inicializar\n",
        "    current_seed = seed\n",
        "\n",
        "    # Lista para almacenar los números aleatorios generados\n",
        "    numbers = []\n",
        "\n",
        "    # Realizar la generación de números aleatorios\n",
        "    for _ in range(n):\n",
        "        # Aplicar la fórmula de generación del número aleatorio\n",
        "        next_num = (a * current_seed + c) % m\n",
        "\n",
        "        # Guardar el número aleatorio generado\n",
        "        numbers.append(next_num)\n",
        "\n",
        "        # Actualizar la semilla para el siguiente número aleatorio\n",
        "        current_seed = next_num\n",
        "\n",
        "    return numbers\n",
        "#Mid-Square\n",
        "def Mid_Square(seed, n):\n",
        "    # Verificar si n es mayor o igual a 2\n",
        "    if n < 2:\n",
        "        print(\"El valor de n debe ser mayor o igual a 2\")\n",
        "        return []\n",
        "\n",
        "\n",
        "    seed_length = len(str(seed))\n",
        "\n",
        "    # Verificar si el tamañao de la semilla es par\n",
        "    if seed_length % 2 != 0:\n",
        "        print(\"El número de semilla debe tener una longitud par\")\n",
        "        return []\n",
        "\n",
        "    results = []\n",
        "    current_seed = seed\n",
        "\n",
        "    # Generar números aleatorios\n",
        "    for _ in range(n):\n",
        "        # Elevar al cuadrado el número de semilla\n",
        "        squared_seed = str(current_seed ** 2)\n",
        "\n",
        "        # Añadir ceros a la izquierda\n",
        "        while len(squared_seed) < seed_length * 2:\n",
        "            squared_seed = \"0\" + squared_seed\n",
        "\n",
        "        # Obtener los dígitos centrales como el nuevo número aleatorio\n",
        "        start_index = seed_length // 2\n",
        "        end_index = start_index + seed_length\n",
        "        random_num_str = squared_seed[start_index:end_index]\n",
        "        random_num = int(random_num_str)\n",
        "\n",
        "        # Guardar el número aleatorio generado\n",
        "        results.append(random_num)\n",
        "        current_seed = random_num\n",
        "\n",
        "    return results\n",
        "#A)\n",
        "print(\"Inciso A:\")\n",
        "seed_1 = 17\n",
        "a_1 = 15\n",
        "c_1 = 3\n",
        "m_1 = 48\n",
        "n = 100\n",
        "\n",
        "random_numbers_1 = CongMixto(seed_1, a_1, c_1, m_1, n)\n",
        "\n",
        "# Determinar el tamaño del ciclo\n",
        "cycle_size_1 = len(set(random_numbers_1))\n",
        "print(\"Generador 1:\")\n",
        "print(f\"Números aleatorios: {random_numbers_1}\")\n",
        "print(f\"Tamaño del ciclo: {cycle_size_1}\\n\")\n",
        "\n",
        "#B)\n",
        "print(\"Inciso B:\")\n",
        "seed_2 = 2023\n",
        "random_numbers_2 = Mid_Square(seed_2,n)\n",
        "\n",
        "# Determinar el tamaño del ciclo\n",
        "cycle_size_2 = len(set(random_numbers_2))\n",
        "print(\"Generador 2:\")\n",
        "print(f\"Números aleatorios: {random_numbers_2}\")\n",
        "print(f\"Tamaño del ciclo: {cycle_size_2}\\n\")\n",
        "\n",
        "#C)\n",
        "print(\"Inciso B:\")\n",
        "seed_3 = 123713\n",
        "random_numbers_3 = Mid_Square(seed_3,n)\n",
        "\n",
        "# Determinar el tamaño del ciclo\n",
        "cycle_size_3 = len(set(random_numbers_3))\n",
        "print(\"Generador 3:\")\n",
        "print(f\"Números aleatorios: {random_numbers_3}\")\n",
        "print(f\"Tamaño del ciclo: {cycle_size_3}\\n\")\n",
        "\n",
        "#D)\n",
        "print(\"Inciso D:\")\n",
        "seed_4 = 621\n",
        "a_4 = 101\n",
        "c_4 = 31\n",
        "m_4 = 19\n",
        "\n",
        "random_numbers_4 = CongMixto(seed_4, a_4, c_4, m_4, n)\n",
        "\n",
        "# Determinar el tamaño del ciclo\n",
        "cycle_size_4 = len(set(random_numbers_4))\n",
        "print(\"Generador 4:\")\n",
        "print(f\"Números aleatorios: {random_numbers_4}\")\n",
        "print(f\"Tamaño del ciclo: {cycle_size_4}\\n\")\n",
        "\n",
        "\n"
      ],
      "metadata": {
        "id": "PfJ0T-zfbbJ0",
        "colab": {
          "base_uri": "https://localhost:8080/"
        },
        "outputId": "61633801-751a-4513-9b1c-8a820473b898"
      },
      "execution_count": null,
      "outputs": [
        {
          "output_type": "stream",
          "name": "stdout",
          "text": [
            "Inciso A:\n",
            "Generador 1:\n",
            "Números aleatorios: [18, 33, 18, 33, 18, 33, 18, 33, 18, 33, 18, 33, 18, 33, 18, 33, 18, 33, 18, 33, 18, 33, 18, 33, 18, 33, 18, 33, 18, 33, 18, 33, 18, 33, 18, 33, 18, 33, 18, 33, 18, 33, 18, 33, 18, 33, 18, 33, 18, 33, 18, 33, 18, 33, 18, 33, 18, 33, 18, 33, 18, 33, 18, 33, 18, 33, 18, 33, 18, 33, 18, 33, 18, 33, 18, 33, 18, 33, 18, 33, 18, 33, 18, 33, 18, 33, 18, 33, 18, 33, 18, 33, 18, 33, 18, 33, 18, 33, 18, 33]\n",
            "Tamaño del ciclo: 2\n",
            "\n",
            "Inciso B:\n",
            "Generador 2:\n",
            "Números aleatorios: [925, 8556, 2051, 2066, 2683, 1984, 9362, 6470, 8609, 1148, 3179, 1060, 1236, 5276, 8361, 9063, 1379, 9016, 2882, 3059, 3574, 7734, 8147, 3736, 9576, 6997, 9580, 7764, 2796, 8176, 8469, 7239, 4031, 2489, 1951, 8064, 280, 784, 6146, 7733, 7992, 8720, 384, 1474, 1726, 9790, 8441, 2504, 2700, 2900, 4100, 8100, 6100, 2100, 4100, 8100, 6100, 2100, 4100, 8100, 6100, 2100, 4100, 8100, 6100, 2100, 4100, 8100, 6100, 2100, 4100, 8100, 6100, 2100, 4100, 8100, 6100, 2100, 4100, 8100, 6100, 2100, 4100, 8100, 6100, 2100, 4100, 8100, 6100, 2100, 4100, 8100, 6100, 2100, 4100, 8100, 6100, 2100, 4100, 8100]\n",
            "Tamaño del ciclo: 54\n",
            "\n",
            "Inciso B:\n",
            "Generador 3:\n",
            "Números aleatorios: [304906, 967668, 381358, 433924, 290037, 121461, 752774, 668695, 153003, 409918, 32766, 73610, 418432, 85338, 282574, 848065, 214244, 900491, 884041, 528489, 300623, 374188, 16659, 277522, 18460, 340771, 124874, 593515, 260055, 628603, 141731, 87676, 687080, 78926, 229313, 584451, 582971, 855186, 343094, 713492, 70834, 17455, 304677, 828074, 706549, 211489, 727597, 397394, 921991, 67404, 543299, 173803, 207482, 48780, 379488, 11142, 124144, 411732, 523239, 779051, 920460, 246611, 816985, 464490, 750960, 940921, 332328, 441899, 274726, 474375, 31640, 1089, 1185, 1404, 1971, 3884, 15085, 227557, 782188, 818067, 233616, 576435, 277309, 900281, 505878, 912550, 747502, 759240, 445377, 360672, 84291, 104972, 19120, 365574, 644349, 185633, 459610, 241352, 250787, 894119]\n",
            "Tamaño del ciclo: 100\n",
            "\n",
            "Inciso D:\n",
            "Generador 4:\n",
            "Números aleatorios: [14, 1, 18, 6, 10, 15, 7, 16, 13, 14, 1, 18, 6, 10, 15, 7, 16, 13, 14, 1, 18, 6, 10, 15, 7, 16, 13, 14, 1, 18, 6, 10, 15, 7, 16, 13, 14, 1, 18, 6, 10, 15, 7, 16, 13, 14, 1, 18, 6, 10, 15, 7, 16, 13, 14, 1, 18, 6, 10, 15, 7, 16, 13, 14, 1, 18, 6, 10, 15, 7, 16, 13, 14, 1, 18, 6, 10, 15, 7, 16, 13, 14, 1, 18, 6, 10, 15, 7, 16, 13, 14, 1, 18, 6, 10, 15, 7, 16, 13, 14]\n",
            "Tamaño del ciclo: 9\n",
            "\n"
          ]
        }
      ]
    },
    {
      "cell_type": "markdown",
      "metadata": {
        "id": "iSdDyJqlmz3D"
      },
      "source": [
        "## 2. (1 punto)\n",
        "Para la secuencia de $N=1000$ números pseudo-aleatorios de cada uno de los siguientes generadores aleatorios realice el test de uniformidad Chi-cuadrado ($k=100$) y el test de aleatoriedad de rachas, calculando el respectivo estadístico respectivo y verificando la hipótesis nula o la hipótesis de rechazo, para confirmar si la secuencia cumple con o no con los criterios de uniformidad y aleatoriedad. Use un 95% de intervalo de confianza.\n",
        "\n",
        "**a)** $x_0=77777, x_n = (65539x_{n-1}) \\mod 2^{31}$\n"
      ]
    },
    {
      "cell_type": "markdown",
      "source": [
        "\n",
        "**b)** $x_0=111111, x_n = (16807x_{n-1}) \\mod 2^{31}-1$\n",
        "\n"
      ],
      "metadata": {
        "id": "qdr26WC2pH5Z"
      }
    },
    {
      "cell_type": "markdown",
      "source": [
        "**c)** $x_0=512, x_n = (51x_{n-1}+31) \\mod 1002$"
      ],
      "metadata": {
        "id": "F45SwDIApJ8t"
      }
    },
    {
      "cell_type": "markdown",
      "source": [
        "**d)** $x_0=123, x_n = (7x_{n-1}+2) \\mod 21$"
      ],
      "metadata": {
        "id": "cJsT_MUEQBvr"
      }
    },
    {
      "cell_type": "code",
      "source": [
        "k=100\n",
        "n=1000\n",
        "#Generadores A\n",
        "seed_a = 77777\n",
        "a_a = 65539\n",
        "c_a = 0\n",
        "m_a = 2**31\n",
        "random_numbers_a = CongMixto(seed_a, a_a, c_a, m_a, n)\n",
        "#Generadores B\n",
        "seed_b = 111111\n",
        "a_b = 16807\n",
        "c_b = 0\n",
        "m_b = (2**31)-1\n",
        "random_numbers_b = CongMixto(seed_b, a_b, c_b, m_b, n)\n",
        "#Generadores C\n",
        "seed_c = 512\n",
        "a_c = 51\n",
        "c_c = 31\n",
        "m_c = 1002\n",
        "random_numbers_c = CongMixto(seed_c, a_c, c_c, m_c, n)\n",
        "#Generadores D\n",
        "seed_d = 123\n",
        "a_d = 7\n",
        "c_d = 2\n",
        "m_d = 21\n",
        "random_numbers_d = CongMixto(seed_d, a_d, c_d, m_d, n)\n",
        "def rachas(numbers):\n",
        "    runs = [1 if numbers[i] < numbers[i+1] else 0 for i in range(len(numbers)-1)]\n",
        "\n",
        "    n1 = sum(runs)\n",
        "    n2 = len(runs) - n1\n",
        "\n",
        "    runs_var = (2 * n1 * n2 * (2 * n1 * n2 - len(runs))) / ((len(runs) ** 2) * (len(runs) - 1))\n",
        "    runs_z_score = (sum(runs) - (2 * n1 * n2) / len(runs)) / np.sqrt(runs_var)\n",
        "\n",
        "    alpha = 0.05\n",
        "    if abs(runs_z_score) < 1.96:\n",
        "        result = \"La secuencia cumple con el criterio de aleatoriedad\"\n",
        "    else:\n",
        "        result = \"La secuencia no cumple con el criterio de aleatoriedad\"\n",
        "\n",
        "    return runs_z_score, result\n",
        "def chi(numbers,k,n):\n",
        "    # Realizar el test de uniformidad Chi-cuadrado\n",
        "    intervals = np.linspace(0, 1, k+1)\n",
        "    observed_frequencies = np.histogram(numbers, bins=intervals)[0]\n",
        "    expected_frequencies = np.full(k, n/k)\n",
        "    chi_squared_statistic = np.sum((observed_frequencies - expected_frequencies)**2 / expected_frequencies)\n",
        "\n",
        "    p_value = 1 - chi2.cdf(chi_squared_statistic, k-1)\n",
        "\n",
        "    # Verificar la hipótesis nula en un 95% de intervalo de confianza\n",
        "    alpha = 0.05\n",
        "    if p_value > alpha:\n",
        "      uniformity_result = \"La secuencia cumple con el criterio de uniformidad\"\n",
        "    else:\n",
        "      uniformity_result = \"La secuencia no cumple con el criterio de uniformidad\"\n",
        "    return p_value, uniformity_result\n",
        "#Inciso A\n",
        "print(\"Inciso A:\")\n",
        "esRa,resRa=rachas(random_numbers_a)\n",
        "esChi,resChi=chi(random_numbers_a,k,n)\n",
        "# Mostrar los resultados\n",
        "print(\"Test de uniformidad Chi-cuadrado:\")\n",
        "print(f\"P-valor: {esChi}\")\n",
        "print(resChi)\n",
        "print(\"\\nTest de aleatoriedad de rachas:\")\n",
        "print(f\"Z-score: {esRa}\")\n",
        "print(resRa)\n",
        "\n",
        "#Inciso B\n",
        "print(\"Inciso B:\")\n",
        "esRa,resRa=rachas(random_numbers_b)\n",
        "esChi,resChi=chi(random_numbers_b,k,n)\n",
        "# Mostrar los resultados\n",
        "print(\"Test de uniformidad Chi-cuadrado:\")\n",
        "print(f\"P-valor: {esChi}\")\n",
        "print(resChi)\n",
        "print(\"\\nTest de aleatoriedad de rachas:\")\n",
        "print(f\"Z-score: {esRa}\")\n",
        "print(resRa)\n",
        "\n",
        "#Inciso C\n",
        "print(\"Inciso C:\")\n",
        "esRa,resRa=rachas(random_numbers_c)\n",
        "esChi,resChi=chi(random_numbers_c,k,n)\n",
        "# Mostrar los resultados\n",
        "print(\"Test de uniformidad Chi-cuadrado:\")\n",
        "print(f\"P-valor: {esChi}\")\n",
        "print(resChi)\n",
        "print(\"\\nTest de aleatoriedad de rachas:\")\n",
        "print(f\"Z-score: {esRa}\")\n",
        "print(resRa)\n",
        "\n",
        "#Inciso D\n",
        "print(\"Inciso D:\")\n",
        "esRa,resRa=rachas(random_numbers_d)\n",
        "esChi,resChi=chi(random_numbers_d,k,n)\n",
        "# Mostrar los resultados\n",
        "print(\"Test de uniformidad Chi-cuadrado:\")\n",
        "print(f\"P-valor: {esChi}\")\n",
        "print(resChi)\n",
        "print(\"\\nTest de aleatoriedad de rachas:\")\n",
        "print(f\"Z-score: {esRa}\")\n",
        "print(resRa)\n",
        "\n",
        "\n",
        "\n",
        "\n"
      ],
      "metadata": {
        "id": "lnxCgMVNbb0s",
        "colab": {
          "base_uri": "https://localhost:8080/"
        },
        "outputId": "7c62262b-ffcc-41bc-df70-c2b6a0c9fd70"
      },
      "execution_count": null,
      "outputs": [
        {
          "output_type": "stream",
          "name": "stdout",
          "text": [
            "Inciso A:\n",
            "Test de uniformidad Chi-cuadrado:\n",
            "P-valor: 0.0\n",
            "La secuencia no cumple con el criterio de uniformidad\n",
            "\n",
            "Test de aleatoriedad de rachas:\n",
            "Z-score: -1.011195560007542\n",
            "La secuencia cumple con el criterio de aleatoriedad\n",
            "Inciso B:\n",
            "Test de uniformidad Chi-cuadrado:\n",
            "P-valor: 0.0\n",
            "La secuencia no cumple con el criterio de uniformidad\n",
            "\n",
            "Test de aleatoriedad de rachas:\n",
            "Z-score: -0.40622191501043586\n",
            "La secuencia cumple con el criterio de aleatoriedad\n",
            "Inciso C:\n",
            "Test de uniformidad Chi-cuadrado:\n",
            "P-valor: 0.0\n",
            "La secuencia no cumple con el criterio de uniformidad\n",
            "\n",
            "Test de aleatoriedad de rachas:\n",
            "Z-score: 0.031686180712804955\n",
            "La secuencia cumple con el criterio de aleatoriedad\n",
            "Inciso D:\n",
            "Test de uniformidad Chi-cuadrado:\n",
            "P-valor: 0.0\n",
            "La secuencia no cumple con el criterio de uniformidad\n",
            "\n",
            "Test de aleatoriedad de rachas:\n",
            "Z-score: -7.906693452664129\n",
            "La secuencia no cumple con el criterio de aleatoriedad\n"
          ]
        }
      ]
    },
    {
      "cell_type": "markdown",
      "metadata": {
        "id": "V1_DtV5-Sedx"
      },
      "source": [
        "## 3. (1 punto)\n",
        "Para las siguientes integrales, use simulación con el generado congruencial mixto $x_0=3052023, x_n = (134775813 x_{n-1}+1) \\mod (2^{32})$ para aproximar el valor de las integrales usando el método de Monte Carlo generando $N=1000$ números aleatorios.\n",
        "\n",
        "**a)** $\\int_{0}^{1}e ^{sin(x)}dx$"
      ]
    },
    {
      "cell_type": "code",
      "source": [
        "def integral_gcm1(N):\n",
        "    s = 0\n",
        "\n",
        "    xn1 = 3052023  # Semilla\n",
        "\n",
        "    # GENERADOR Numerical Recipes\n",
        "    a = 134775813\n",
        "    c = 1\n",
        "    m = 2 ** 32\n",
        "\n",
        "    # Límites de la integral\n",
        "    lim_a = 0\n",
        "    lim_b = 1\n",
        "\n",
        "    for i in range(N):\n",
        "        xn = (a * xn1 + c) % m\n",
        "        xn1 = xn\n",
        "        u = xn / m\n",
        "        x = lim_a + (lim_b - lim_a) * u\n",
        "        # Función\n",
        "        s += math.exp(math.sin(x)) * (lim_b - lim_a)\n",
        "\n",
        "    return s / N\n",
        "\n",
        "\n",
        "N = 1000\n",
        "valor_integral = integral_gcm1(N)\n",
        "print(f\"El resultado de la integral A es:{valor_integral}\")"
      ],
      "metadata": {
        "colab": {
          "base_uri": "https://localhost:8080/"
        },
        "id": "801lxqhclA9l",
        "outputId": "3e72bcd5-31a9-4a2f-9a4d-a924ab11112a"
      },
      "execution_count": null,
      "outputs": [
        {
          "output_type": "stream",
          "name": "stdout",
          "text": [
            "El resultado de la integral A es:1.642642960552579\n"
          ]
        }
      ]
    },
    {
      "cell_type": "markdown",
      "metadata": {
        "id": "slAY5WbySlbf"
      },
      "source": [
        "**b)** $\\int_{0}^{1}(\\sin(1+x^{2}))^{3/2}dx$"
      ]
    },
    {
      "cell_type": "code",
      "source": [
        "def integral_gcm2(N):\n",
        "    s = 0\n",
        "\n",
        "    xn1 = 3052023  # Semilla\n",
        "\n",
        "    # GENERADOR Numerical Recipes\n",
        "    a = 134775813\n",
        "    c = 1\n",
        "    m = 2 ** 32\n",
        "\n",
        "    # Límites de la integral\n",
        "    lim_a = 0\n",
        "    lim_b = 1\n",
        "\n",
        "    for i in range(N):\n",
        "        xn = (a * xn1 + c) % m\n",
        "        xn1 = xn\n",
        "        u = xn / m\n",
        "        x = lim_a + (lim_b - lim_a) * u\n",
        "        # Función\n",
        "        s += (math.sin(1 + (x**2))**(3/2)) * (lim_b - lim_a)\n",
        "\n",
        "    return s / N\n",
        "\n",
        "\n",
        "N = 1000\n",
        "valor_integral = integral_gcm2(N)\n",
        "print(f\"El resultado de la integral B es:{valor_integral}\")"
      ],
      "metadata": {
        "colab": {
          "base_uri": "https://localhost:8080/"
        },
        "id": "drS-j9GFlCo_",
        "outputId": "572b64c4-80c3-4df5-982d-425ab352f74b"
      },
      "execution_count": null,
      "outputs": [
        {
          "output_type": "stream",
          "name": "stdout",
          "text": [
            "El resultado de la integral B es:0.8979618414559828\n"
          ]
        }
      ]
    },
    {
      "cell_type": "markdown",
      "source": [
        "**c)** $\\int_{-2}^{2}e^{x+x^2}dx$"
      ],
      "metadata": {
        "id": "Kn_s14kbQ_Pm"
      }
    },
    {
      "cell_type": "code",
      "source": [
        "def integral_gcm3(N):\n",
        "    s = 0\n",
        "\n",
        "    xn1 = 3052023  # Semilla\n",
        "\n",
        "    # GENERADOR Numerical Recipes\n",
        "    a = 134775813\n",
        "    c = 1\n",
        "    m = 2 ** 32\n",
        "\n",
        "    # Límites de la integral\n",
        "    lim_a = -2\n",
        "    lim_b = 2\n",
        "\n",
        "    for i in range(N):\n",
        "        xn = (a * xn1 + c) % m\n",
        "        xn1 = xn\n",
        "        u = xn / m\n",
        "        x = lim_a + (lim_b - lim_a) * u\n",
        "        # Función\n",
        "        s += math.exp(x + x ** 2) * (lim_b - lim_a)\n",
        "\n",
        "    return s / N\n",
        "\n",
        "\n",
        "N = 1000\n",
        "valor_integral = integral_gcm3(N)\n",
        "print(f\"El resultado de la integral C es:{valor_integral}\")"
      ],
      "metadata": {
        "colab": {
          "base_uri": "https://localhost:8080/"
        },
        "id": "WZlZgeSHlDLO",
        "outputId": "0f703417-cdfe-412e-ec34-a404360ac370"
      },
      "execution_count": null,
      "outputs": [
        {
          "output_type": "stream",
          "name": "stdout",
          "text": [
            "El resultado de la integral C es:91.80044023887913\n"
          ]
        }
      ]
    },
    {
      "cell_type": "markdown",
      "metadata": {
        "id": "F5CnAffUSm_J"
      },
      "source": [
        "**d)** $\\int_{-3}^{3}e^{sin(x)-x^{3}}dx$"
      ]
    },
    {
      "cell_type": "code",
      "source": [
        "def integral_gcm4(N):\n",
        "    s = 0\n",
        "\n",
        "    xn1 = 3052023  # Semilla\n",
        "\n",
        "    # GENERADOR Numerical Recipes\n",
        "    a = 134775813\n",
        "    c = 1\n",
        "    m = 2 ** 32\n",
        "\n",
        "    # Límites de la integral\n",
        "    lim_a = -3\n",
        "    lim_b = 3\n",
        "\n",
        "    for i in range(N):\n",
        "        xn = (a * xn1 + c) % m\n",
        "        xn1 = xn\n",
        "        u = xn / m\n",
        "        x = lim_a + (lim_b - lim_a) * u\n",
        "        # Función\n",
        "        s += math.exp((math.sin(x))-(x**3)) * (lim_b - lim_a)\n",
        "\n",
        "    return s / N\n",
        "\n",
        "\n",
        "N = 1000\n",
        "valor_integral = integral_gcm4(N)\n",
        "print(f\"El resultado de la integral D es:{valor_integral}\")"
      ],
      "metadata": {
        "colab": {
          "base_uri": "https://localhost:8080/"
        },
        "id": "f4qJlsoulD9Z",
        "outputId": "52a66416-5793-44d2-eb2a-894b119ee1a3"
      },
      "execution_count": null,
      "outputs": [
        {
          "output_type": "stream",
          "name": "stdout",
          "text": [
            "El resultado de la integral D es:11830872651.737663\n"
          ]
        }
      ]
    },
    {
      "cell_type": "markdown",
      "metadata": {
        "id": "jT3P8Hf6TOy9"
      },
      "source": [
        "## 4.  (2 puntos)\n",
        "Tomando como base el [Ejemplo 1 (*Ad Hoc Simulation*) del Capítulo 1 de \\[Banks98\\]](https://drive.google.com/file/d/1SApy39McxOjFKEYWJ8qg9sa892XeUUyC/view?usp=sharing) realizado en clase, repetir el ejemplo pero en lugar de generar las variables aleatorias de los *tiempos entre llegadas* con la ruleta con valores de 1 a 10, **use un generador de números aleatorios de una distribución uniforme discreta con valores de 1 a 7** (e.g. usando `numpy.random.randint`) y para los *tiempos de servicio* en lugar del dado de seis caras, **use igualmente un generador de números aleatorios de una distribución uniforme discreta con valores de 1 a 12**. Similar al ejemplo *Ad hoc Simulation*, calcular la medida de desempeño indicada abajo con una simulación hasta que 200 clientes que hayan sido atendidos.<br><br>\n",
        "\n",
        "Calcular:<br>\n",
        "**a)** Tiempo promedio en el sistema<br>\n"
      ]
    },
    {
      "cell_type": "markdown",
      "source": [
        "**b)** El intervalo de confianza del 95% ($\\alpha = 0.05$) de la medida de desempeño del *tiempo promedio en el sistema* (*Average time in system*) para 20 repeticiones.  "
      ],
      "metadata": {
        "id": "JEKLM9ksCK5w"
      }
    },
    {
      "cell_type": "code",
      "source": [],
      "metadata": {
        "id": "PSFSLD_pbcvw"
      },
      "execution_count": null,
      "outputs": []
    }
  ]
}