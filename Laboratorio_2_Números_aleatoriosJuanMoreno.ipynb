{
  "nbformat": 4,
  "nbformat_minor": 0,
  "metadata": {
    "colab": {
      "provenance": []
    },
    "kernelspec": {
      "name": "python3",
      "display_name": "Python 3"
    }
  },
  "cells": [
    {
      "cell_type": "markdown",
      "metadata": {
        "id": "0Cch5Hyw0-oF"
      },
      "source": [
        "# **Laboratorio 2 - Simulación Computacional**\n",
        "## **2PA-2023**  ##\n",
        "Elabore cada uno de los puntos incluyendo la implementación correspondiente con sus dependencias y librerías en Python debidamente ejecutadas y guardadas. Debe descargar el archivo de Notebook de Jupyter o Google Colab (.ipynb) ejecutado y guardado para enviarlo adjunto por la plataforma Moodle del curso en el Laboratorio 2 correspondiente.\n",
        "\n",
        "Fecha máxima de entrega: ***23:59h - Septiembre 20 de 2023***\n"
      ]
    },
    {
      "cell_type": "markdown",
      "metadata": {
        "id": "R4u_FmRMzwpg"
      },
      "source": [
        "## **1. Generación de números aleatorios.** ##\n",
        "\n",
        "### 1.1. ###\n",
        "\n",
        "Implementar el método de cuadrados medios (Mid-Square) para cualquier numero de $2n$ cifras donde al menos $n \\geqslant 2$ (debe validarlo), y genere 100 ($N=100$) numeros aleatorios $u_i$ usando como semilla $x_0$ los últimos 4 dígitos de su código estudiantil."
      ]
    },
    {
      "cell_type": "code",
      "metadata": {
        "id": "cZlIDPBs2xYk",
        "colab": {
          "base_uri": "https://localhost:8080/"
        },
        "outputId": "019d145c-9867-47e6-af3f-3942cee4e339"
      },
      "source": [
        "def generate_random_numbers(seed, n):\n",
        "    # Verificar si n es mayor o igual a 2\n",
        "    if n < 2:\n",
        "        print(\"El valor de n debe ser mayor o igual a 2\")\n",
        "        return []\n",
        "\n",
        "\n",
        "    seed_length = len(str(seed))\n",
        "\n",
        "    # Verificar si el tamañao de la semilla es par\n",
        "    if seed_length % 2 != 0:\n",
        "        print(\"El número de semilla debe tener una longitud par\")\n",
        "        return []\n",
        "\n",
        "    results = []\n",
        "    current_seed = seed\n",
        "\n",
        "    # Generar números aleatorios\n",
        "    for _ in range(n):\n",
        "        # Elevar al cuadrado el número de semilla\n",
        "        squared_seed = str(current_seed ** 2)\n",
        "\n",
        "        # Añadir ceros a la izquierda\n",
        "        while len(squared_seed) < seed_length * 2:\n",
        "            squared_seed = \"0\" + squared_seed\n",
        "\n",
        "        # Obtener los dígitos centrales como el nuevo número aleatorio\n",
        "        start_index = seed_length // 2\n",
        "        end_index = start_index + seed_length\n",
        "        random_num_str = squared_seed[start_index:end_index]\n",
        "        random_num = int(random_num_str)\n",
        "\n",
        "        # Guardar el número aleatorio generado\n",
        "        results.append(random_num)\n",
        "        current_seed = random_num\n",
        "\n",
        "    return results\n",
        "\n",
        "\n",
        "seed = 3726\n",
        "n = 100\n",
        "random_numbers = generate_random_numbers(seed, n)\n",
        "print(random_numbers)\n"
      ],
      "execution_count": 1,
      "outputs": [
        {
          "output_type": "stream",
          "name": "stdout",
          "text": [
            "[8830, 9689, 8767, 8602, 9944, 8831, 9865, 3182, 1251, 5650, 9225, 1006, 120, 144, 207, 428, 1831, 3525, 4256, 1135, 2882, 3059, 3574, 7734, 8147, 3736, 9576, 6997, 9580, 7764, 2796, 8176, 8469, 7239, 4031, 2489, 1951, 8064, 280, 784, 6146, 7733, 7992, 8720, 384, 1474, 1726, 9790, 8441, 2504, 2700, 2900, 4100, 8100, 6100, 2100, 4100, 8100, 6100, 2100, 4100, 8100, 6100, 2100, 4100, 8100, 6100, 2100, 4100, 8100, 6100, 2100, 4100, 8100, 6100, 2100, 4100, 8100, 6100, 2100, 4100, 8100, 6100, 2100, 4100, 8100, 6100, 2100, 4100, 8100, 6100, 2100, 4100, 8100, 6100, 2100, 4100, 8100, 6100, 2100]\n"
          ]
        }
      ]
    },
    {
      "cell_type": "markdown",
      "metadata": {
        "id": "NRe2wJQI579W"
      },
      "source": [
        "##1.2.##\n",
        "Para los siguientes generadores congruenciales mixtos genere 200 ($N=200$) números aleatorios  $u_i = u_1,...,u_{200}$, e indique el tamaño del ciclo (si lo tiene)."
      ]
    },
    {
      "cell_type": "markdown",
      "metadata": {
        "id": "dH0r-eRRBc6H"
      },
      "source": [
        "**a)** $x_0=123, x_n = (114x_{n-1}+9) \\mod 127$"
      ]
    },
    {
      "cell_type": "code",
      "metadata": {
        "id": "vjLE4WWWELfD",
        "outputId": "403c0c50-8544-4362-d126-1b6f3f417f1a",
        "colab": {
          "base_uri": "https://localhost:8080/"
        }
      },
      "source": [
        "def generate_random_numbers(seed, a, c, m, n):\n",
        "    # Inicializar\n",
        "    current_seed = seed\n",
        "\n",
        "    # Lista para almacenar los números aleatorios generados\n",
        "    numbers = []\n",
        "\n",
        "    # Realizar la generación de números aleatorios\n",
        "    for _ in range(n):\n",
        "        # Aplicar la fórmula de generación del número aleatorio\n",
        "        next_num = (a * current_seed + c) % m\n",
        "\n",
        "        # Guardar el número aleatorio generado\n",
        "        numbers.append(next_num)\n",
        "\n",
        "        # Actualizar la semilla para el siguiente número aleatorio\n",
        "        current_seed = next_num\n",
        "\n",
        "    return numbers\n",
        "\n",
        "seed_1 = 123\n",
        "a_1 = 114\n",
        "c_1 = 9\n",
        "m_1 = 127\n",
        "n = 200\n",
        "\n",
        "random_numbers_1 = generate_random_numbers(seed_1, a_1, c_1, m_1, n)\n",
        "\n",
        "# Determinar el tamaño del ciclo\n",
        "cycle_size_1 = len(set(random_numbers_1))\n",
        "\n",
        "print(\"Generador 1:\")\n",
        "print(f\"Números aleatorios: {random_numbers_1}\")\n",
        "print(f\"Tamaño del ciclo: {cycle_size_1}\\n\")\n",
        "\n"
      ],
      "execution_count": 2,
      "outputs": [
        {
          "output_type": "stream",
          "name": "stdout",
          "text": [
            "Generador 1:\n",
            "Números aleatorios: [61, 105, 41, 111, 90, 109, 116, 25, 65, 53, 82, 86, 34, 75, 50, 121, 87, 21, 117, 12, 107, 15, 68, 14, 81, 99, 119, 113, 64, 66, 40, 124, 48, 20, 3, 97, 18, 29, 13, 94, 57, 30, 0, 9, 19, 16, 55, 56, 43, 85, 47, 33, 88, 8, 32, 101, 93, 70, 115, 38, 23, 91, 96, 31, 114, 51, 108, 2, 110, 103, 67, 27, 39, 10, 6, 58, 17, 42, 98, 5, 71, 102, 80, 112, 77, 24, 78, 11, 120, 100, 106, 28, 26, 52, 95, 44, 72, 89, 122, 74, 63, 79, 125, 35, 62, 92, 83, 73, 76, 37, 36, 49, 7, 45, 59, 4, 84, 60, 118, 126, 22, 104, 54, 69, 1, 123, 61, 105, 41, 111, 90, 109, 116, 25, 65, 53, 82, 86, 34, 75, 50, 121, 87, 21, 117, 12, 107, 15, 68, 14, 81, 99, 119, 113, 64, 66, 40, 124, 48, 20, 3, 97, 18, 29, 13, 94, 57, 30, 0, 9, 19, 16, 55, 56, 43, 85, 47, 33, 88, 8, 32, 101, 93, 70, 115, 38, 23, 91, 96, 31, 114, 51, 108, 2, 110, 103, 67, 27, 39, 10]\n",
            "Tamaño del ciclo: 126\n",
            "\n"
          ]
        }
      ]
    },
    {
      "cell_type": "markdown",
      "metadata": {
        "id": "RsGdJnIoBLcA"
      },
      "source": [
        "**b)** $x_0=21, x_n = 3x_{n-1} \\mod 300$"
      ]
    },
    {
      "cell_type": "code",
      "metadata": {
        "id": "yC5lIc16EL-0",
        "outputId": "46c4f011-e782-470c-a226-7663e8113854",
        "colab": {
          "base_uri": "https://localhost:8080/"
        }
      },
      "source": [
        "def generate_random_numbers(seed, a, c, m, n):\n",
        "    # Inicializar la semilla inicial\n",
        "    current_seed = seed\n",
        "\n",
        "    # Lista para almacenar los números aleatorios generados\n",
        "    numbers = []\n",
        "\n",
        "    # Realizar la generación de números aleatorios\n",
        "    for _ in range(n):\n",
        "        # Aplicar la fórmula de generación del número aleatorio\n",
        "        next_num = (a * current_seed + c) % m\n",
        "\n",
        "        # Guardar el número aleatorio generado\n",
        "        numbers.append(next_num)\n",
        "\n",
        "        # Actualizar la semilla para el siguiente número aleatorio\n",
        "        current_seed = next_num\n",
        "\n",
        "    return numbers\n",
        "\n",
        "seed_2 = 21\n",
        "a_2 = 3\n",
        "c_2 = 0\n",
        "m_2 = 300\n",
        "\n",
        "random_numbers_2 = generate_random_numbers(seed_2, a_2, c_2, m_2, n)\n",
        "\n",
        "# Determinar el tamaño del ciclo\n",
        "cycle_size_2 = len(set(random_numbers_2))\n",
        "\n",
        "print(\"Generador 2:\")\n",
        "print(f\"Números aleatorios: {random_numbers_2}\")\n",
        "print(f\"Tamaño del ciclo: {cycle_size_2}\\n\")\n",
        "\n"
      ],
      "execution_count": 3,
      "outputs": [
        {
          "output_type": "stream",
          "name": "stdout",
          "text": [
            "Generador 2:\n",
            "Números aleatorios: [63, 189, 267, 201, 3, 9, 27, 81, 243, 129, 87, 261, 183, 249, 147, 141, 123, 69, 207, 21, 63, 189, 267, 201, 3, 9, 27, 81, 243, 129, 87, 261, 183, 249, 147, 141, 123, 69, 207, 21, 63, 189, 267, 201, 3, 9, 27, 81, 243, 129, 87, 261, 183, 249, 147, 141, 123, 69, 207, 21, 63, 189, 267, 201, 3, 9, 27, 81, 243, 129, 87, 261, 183, 249, 147, 141, 123, 69, 207, 21, 63, 189, 267, 201, 3, 9, 27, 81, 243, 129, 87, 261, 183, 249, 147, 141, 123, 69, 207, 21, 63, 189, 267, 201, 3, 9, 27, 81, 243, 129, 87, 261, 183, 249, 147, 141, 123, 69, 207, 21, 63, 189, 267, 201, 3, 9, 27, 81, 243, 129, 87, 261, 183, 249, 147, 141, 123, 69, 207, 21, 63, 189, 267, 201, 3, 9, 27, 81, 243, 129, 87, 261, 183, 249, 147, 141, 123, 69, 207, 21, 63, 189, 267, 201, 3, 9, 27, 81, 243, 129, 87, 261, 183, 249, 147, 141, 123, 69, 207, 21, 63, 189, 267, 201, 3, 9, 27, 81, 243, 129, 87, 261, 183, 249, 147, 141, 123, 69, 207, 21]\n",
            "Tamaño del ciclo: 20\n",
            "\n"
          ]
        }
      ]
    },
    {
      "cell_type": "markdown",
      "metadata": {
        "id": "Kago6BQJBqvt"
      },
      "source": [
        "**c)** $x_0=1317,x_n = (13x_{n-1}+5) \\mod 21$"
      ]
    },
    {
      "cell_type": "code",
      "metadata": {
        "id": "nL1LD2VXxsor",
        "outputId": "de479442-b261-4a96-99cc-aaf70d726607",
        "colab": {
          "base_uri": "https://localhost:8080/"
        }
      },
      "source": [
        "def generate_random_numbers(seed, a, c, m, n):\n",
        "    # Inicializar la semilla inicial\n",
        "    current_seed = seed\n",
        "\n",
        "    # Lista para almacenar los números aleatorios generados\n",
        "    numbers = []\n",
        "\n",
        "    # Realizar la generación de números aleatorios\n",
        "    for _ in range(n):\n",
        "        # Aplicar la fórmula de generación del número aleatorio\n",
        "        next_num = (a * current_seed + c) % m\n",
        "\n",
        "        # Guardar el número aleatorio generado\n",
        "        numbers.append(next_num)\n",
        "\n",
        "        # Actualizar la semilla para el siguiente número aleatorio\n",
        "        current_seed = next_num\n",
        "\n",
        "    return numbers\n",
        "\n",
        "seed_3 = 1317\n",
        "a_3 = 13\n",
        "c_3 = 5\n",
        "m_3 = 21\n",
        "\n",
        "random_numbers_3 = generate_random_numbers(seed_3, a_3, c_3, m_3, n)\n",
        "\n",
        "# Determinar el tamaño del ciclo\n",
        "cycle_size_3 = len(set(random_numbers_3))\n",
        "\n",
        "print(\"Generador 3:\")\n",
        "print(f\"Números aleatorios: {random_numbers_3}\")\n",
        "print(f\"Tamaño del ciclo: {cycle_size_3}\")\n"
      ],
      "execution_count": 4,
      "outputs": [
        {
          "output_type": "stream",
          "name": "stdout",
          "text": [
            "Generador 3:\n",
            "Números aleatorios: [11, 1, 18, 8, 4, 15, 11, 1, 18, 8, 4, 15, 11, 1, 18, 8, 4, 15, 11, 1, 18, 8, 4, 15, 11, 1, 18, 8, 4, 15, 11, 1, 18, 8, 4, 15, 11, 1, 18, 8, 4, 15, 11, 1, 18, 8, 4, 15, 11, 1, 18, 8, 4, 15, 11, 1, 18, 8, 4, 15, 11, 1, 18, 8, 4, 15, 11, 1, 18, 8, 4, 15, 11, 1, 18, 8, 4, 15, 11, 1, 18, 8, 4, 15, 11, 1, 18, 8, 4, 15, 11, 1, 18, 8, 4, 15, 11, 1, 18, 8, 4, 15, 11, 1, 18, 8, 4, 15, 11, 1, 18, 8, 4, 15, 11, 1, 18, 8, 4, 15, 11, 1, 18, 8, 4, 15, 11, 1, 18, 8, 4, 15, 11, 1, 18, 8, 4, 15, 11, 1, 18, 8, 4, 15, 11, 1, 18, 8, 4, 15, 11, 1, 18, 8, 4, 15, 11, 1, 18, 8, 4, 15, 11, 1, 18, 8, 4, 15, 11, 1, 18, 8, 4, 15, 11, 1, 18, 8, 4, 15, 11, 1, 18, 8, 4, 15, 11, 1, 18, 8, 4, 15, 11, 1, 18, 8, 4, 15, 11, 1]\n",
            "Tamaño del ciclo: 6\n"
          ]
        }
      ]
    },
    {
      "cell_type": "markdown",
      "metadata": {
        "id": "UObJsmyC3bY0"
      },
      "source": [
        "## **2. Usando números aleatorios para evaluar integrales.** ([*Sección 3.2, Capítulo 3* \\[Ross99\\]](https://drive.google.com/file/d/0B0MRo23s_UhyWkt6Z2V2dWc1d3M/view)) ##\n",
        "\n",
        "Tomando como referencia la Sección 3.2 del Capítulo 3 del libro [Ross99], use simulación computacional para aproximar las siguientes integrales generando $N=1000$ números aleatorios de un generador congruencial mixto de los disponibles en https://es.wikipedia.org/wiki/Generador_lineal_congruencial como *Numerical Recipes* o *Borland C/C++*. Compare su estimación con la respuesta exacta o solución analítica (resolviendo la integral) si es conocida.\n",
        "### 2.1. ###\n",
        "$\\int_{0}^{1} \\textrm{exp}\\left \\{ e^{x} \\right \\}dx$"
      ]
    },
    {
      "cell_type": "code",
      "metadata": {
        "outputId": "be77314b-dcb6-49e4-ccdd-9f20aaf9e8e9",
        "colab": {
          "base_uri": "https://localhost:8080/"
        },
        "id": "Az_87O0OVR8-"
      },
      "source": [
        "import math\n",
        "\n",
        "def integral_gcm(N):\n",
        "    s = 0\n",
        "\n",
        "    xn1 = 4031  # Semilla\n",
        "\n",
        "    # GENERADOR Numerical Recipes\n",
        "    a = 6364136223846793005\n",
        "    c = 1\n",
        "    m = 2 ** 64\n",
        "\n",
        "    # Límites de la integral\n",
        "    lim_a = 0\n",
        "    lim_b = 1\n",
        "\n",
        "    for i in range(N):\n",
        "        xn = (a * xn1 + c) % m\n",
        "        xn1 = xn\n",
        "        u = xn / m\n",
        "        x = lim_a + (lim_b - lim_a) * u\n",
        "        # Función\n",
        "        s += math.exp(math.exp(x)) * (lim_b - lim_a)\n",
        "\n",
        "    return s / N\n",
        "\n",
        "\n",
        "N = 1000\n",
        "valor_integral = integral_gcm(N)\n",
        "print(valor_integral)\n"
      ],
      "execution_count": 11,
      "outputs": [
        {
          "output_type": "stream",
          "name": "stdout",
          "text": [
            "6.4280660168539105\n"
          ]
        }
      ]
    },
    {
      "cell_type": "markdown",
      "metadata": {
        "id": "oX-p1rWaCvwx"
      },
      "source": [
        "### 2.2. ###\n",
        "$\\int_{0}^{1}{(1-x^2)^{\\frac{3}{2}}}dx$"
      ]
    },
    {
      "cell_type": "code",
      "metadata": {
        "outputId": "bff47852-34ec-4321-f08d-b1bddc260c46",
        "colab": {
          "base_uri": "https://localhost:8080/"
        },
        "id": "7JYZ5o74U1L-"
      },
      "source": [
        "import math\n",
        "\n",
        "def integral_gcm(N):\n",
        "    s = 0\n",
        "\n",
        "    xn1 = 4031  # Semilla\n",
        "\n",
        "    # GENERADOR Numerical Recipes\n",
        "    a = 6364136223846793005\n",
        "    c = 1\n",
        "    m = 2 ** 64\n",
        "\n",
        "    # Límites de la integral\n",
        "    lim_a = 0\n",
        "    lim_b = 1\n",
        "\n",
        "    for i in range(N):\n",
        "        xn = (a * xn1 + c) % m\n",
        "        xn1 = xn\n",
        "        u = xn / m\n",
        "        x = lim_a + (lim_b - lim_a) * u\n",
        "        # Función\n",
        "        s += (1 - x ** 2)**(3/2) * (lim_b - lim_a)\n",
        "\n",
        "    return s / N\n",
        "\n",
        "\n",
        "N = 1000\n",
        "valor_integral = integral_gcm(N)\n",
        "print(valor_integral)\n"
      ],
      "execution_count": 10,
      "outputs": [
        {
          "output_type": "stream",
          "name": "stdout",
          "text": [
            "0.5754268034369643\n"
          ]
        }
      ]
    },
    {
      "cell_type": "markdown",
      "metadata": {
        "id": "6SdjfUJ_uh3J"
      },
      "source": [
        "### 2.3. ###\n",
        "$\\int_{-2}^{2} {e^{x+x^2}} dx$"
      ]
    },
    {
      "cell_type": "code",
      "metadata": {
        "id": "YIyM2RuiwaNk",
        "colab": {
          "base_uri": "https://localhost:8080/"
        },
        "outputId": "9e92eb21-d10b-46d5-f7c8-aabbbd0a5d01"
      },
      "source": [
        "import math\n",
        "\n",
        "def integral_gcm(N):\n",
        "    s = 0\n",
        "\n",
        "    xn1 = 4031  # Semilla\n",
        "\n",
        "    # GENERADOR Numerical Recipes\n",
        "    a = 6364136223846793005\n",
        "    c = 1\n",
        "    m = 2 ** 64\n",
        "\n",
        "    # Límites de la integral\n",
        "    lim_a = -2\n",
        "    lim_b = 2\n",
        "\n",
        "    for i in range(N):\n",
        "        xn = (a * xn1 + c) % m\n",
        "        xn1 = xn\n",
        "        u = xn / m\n",
        "        x = lim_a + (lim_b - lim_a) * u\n",
        "        # Función\n",
        "        s += math.exp(x + x ** 2) * (lim_b - lim_a)\n",
        "\n",
        "    return s / N\n",
        "\n",
        "\n",
        "N = 1000\n",
        "valor_integral = integral_gcm(N)\n",
        "print(valor_integral)\n"
      ],
      "execution_count": 9,
      "outputs": [
        {
          "output_type": "stream",
          "name": "stdout",
          "text": [
            "94.61342052330833\n"
          ]
        }
      ]
    },
    {
      "cell_type": "markdown",
      "source": [
        "## **3. Aplicando pruebas de uniformidad y aleatoriedad de números aleatorios**\n",
        "Para la secuencia de $N=1000$ números pseudo-aleatorios de cada uno de los siguientes generadores aleatorios realice el test de uniformidad Chi-cuadrado ($k=100$) y el test de aleatoriedad de rachas, calculando el respectivo estadístico respectivo y verificando la hipótesis nula o la hipótesis de rechazo, para confirmar si la secuencia cumple con o no con los criterios de uniformidad y aleatoriedad. Use un 95% de intervalo de confianza.\n",
        "\n",
        "**a)** $x_0=999999, x_n = (65539x_{n-1}) \\mod 2^{31}$\n"
      ],
      "metadata": {
        "id": "BcrXb_RNKkX6"
      }
    },
    {
      "cell_type": "code",
      "source": [
        "import numpy as np\n",
        "from scipy.stats import chi2\n",
        "\n",
        "def generate_random_numbers(seed, a, m, n):\n",
        "    numbers = [seed]\n",
        "    for _ in range(n-1):\n",
        "        numbers.append((a * numbers[-1]) % m)\n",
        "    return np.array(numbers)\n",
        "\n",
        "def run_test_of_runs(numbers):\n",
        "    runs = [1 if numbers[i] < numbers[i+1] else 0 for i in range(len(numbers)-1)]\n",
        "\n",
        "    n1 = sum(runs)\n",
        "    n2 = len(runs) - n1\n",
        "\n",
        "    runs_var = (2 * n1 * n2 * (2 * n1 * n2 - len(runs))) / ((len(runs) ** 2) * (len(runs) - 1))\n",
        "    runs_z_score = (sum(runs) - (2 * n1 * n2) / len(runs)) / np.sqrt(runs_var)\n",
        "\n",
        "    alpha = 0.05\n",
        "    if abs(runs_z_score) < 1.96:\n",
        "        result = \"La secuencia cumple con el criterio de aleatoriedad\"\n",
        "    else:\n",
        "        result = \"La secuencia no cumple con el criterio de aleatoriedad\"\n",
        "\n",
        "    return runs_z_score, result\n",
        "\n",
        "# Parámetros del generador de números pseudo-aleatorios\n",
        "seed = 999999\n",
        "a = 65539\n",
        "m = 2**31\n",
        "n = 1000\n",
        "k = 100\n",
        "\n",
        "# Generar la secuencia de números pseudo-aleatorios\n",
        "numbers = generate_random_numbers(seed, a, m, n)\n",
        "\n",
        "# Realizar el test de uniformidad Chi-cuadrado\n",
        "intervals = np.linspace(0, 1, k+1)\n",
        "observed_frequencies = np.histogram(numbers, bins=intervals)[0]\n",
        "expected_frequencies = np.full(k, n/k)\n",
        "chi_squared_statistic = np.sum((observed_frequencies - expected_frequencies)**2 / expected_frequencies)\n",
        "\n",
        "p_value = 1 - chi2.cdf(chi_squared_statistic, k-1)\n",
        "\n",
        "# Verificar la hipótesis nula en un 95% de intervalo de confianza\n",
        "alpha = 0.05\n",
        "if p_value > alpha:\n",
        "    uniformity_result = \"La secuencia cumple con el criterio de uniformidad\"\n",
        "else:\n",
        "    uniformity_result = \"La secuencia no cumple con el criterio de uniformidad\"\n",
        "\n",
        "# Realizar el test de aleatoriedad de rachas\n",
        "runs_z_score, runs_result = run_test_of_runs(numbers)\n",
        "\n",
        "# Mostrar los resultados\n",
        "print(\"Test de uniformidad Chi-cuadrado:\")\n",
        "print(f\"P-valor: {p_value}\")\n",
        "print(uniformity_result)\n",
        "\n",
        "print(\"\\nTest de aleatoriedad de rachas:\")\n",
        "print(f\"Z-score: {runs_z_score}\")\n",
        "print(runs_result)\n"
      ],
      "metadata": {
        "id": "R_ogoytDKyec",
        "outputId": "ce9d7fbd-dee3-48e9-e87c-1bbbeb898d49",
        "colab": {
          "base_uri": "https://localhost:8080/"
        }
      },
      "execution_count": 17,
      "outputs": [
        {
          "output_type": "stream",
          "name": "stdout",
          "text": [
            "Test de uniformidad Chi-cuadrado:\n",
            "P-valor: 0.0\n",
            "La secuencia no cumple con el criterio de uniformidad\n",
            "\n",
            "Test de aleatoriedad de rachas:\n",
            "Z-score: 0.7452100186901386\n",
            "La secuencia cumple con el criterio de aleatoriedad\n"
          ]
        }
      ]
    },
    {
      "cell_type": "markdown",
      "source": [
        "\n",
        "**b)** $x_0=111111, x_n = (16807x_{n-1}) \\mod 2^{31}-1$\n",
        "\n"
      ],
      "metadata": {
        "id": "1g_GD56-K6tt"
      }
    },
    {
      "cell_type": "code",
      "source": [
        "import numpy as np\n",
        "from scipy.stats import chi2\n",
        "\n",
        "def generate_random_numbers(seed, a, m, n):\n",
        "    numbers = [seed]\n",
        "    for _ in range(n-1):\n",
        "        numbers.append((a * numbers[-1]) % m)\n",
        "    return np.array(numbers)\n",
        "\n",
        "def run_test_of_runs(numbers):\n",
        "    runs = [1 if numbers[i] < numbers[i+1] else 0 for i in range(len(numbers)-1)]\n",
        "\n",
        "    n1 = sum(runs)\n",
        "    n2 = len(runs) - n1\n",
        "\n",
        "    runs_var = (2 * n1 * n2 * (2 * n1 * n2 - len(runs))) / ((len(runs) ** 2) * (len(runs) - 1))\n",
        "    runs_z_score = (sum(runs) - (2 * n1 * n2) / len(runs)) / np.sqrt(runs_var)\n",
        "\n",
        "    alpha = 0.05\n",
        "    if abs(runs_z_score) < 1.96:\n",
        "        result = \"La secuencia cumple con el criterio de aleatoriedad\"\n",
        "    else:\n",
        "        result = \"La secuencia no cumple con el criterio de aleatoriedad\"\n",
        "\n",
        "    return runs_z_score, result\n",
        "\n",
        "# Parámetros del generador de números pseudo-aleatorios\n",
        "seed = 111111\n",
        "a = 816807\n",
        "m = (2**31)-1\n",
        "n = 1000\n",
        "k = 100\n",
        "\n",
        "# Generar la secuencia de números pseudo-aleatorios\n",
        "numbers = generate_random_numbers(seed, a, m, n)\n",
        "\n",
        "# Realizar el test de uniformidad Chi-cuadrado\n",
        "intervals = np.linspace(0, 1, k+1)\n",
        "observed_frequencies = np.histogram(numbers, bins=intervals)[0]\n",
        "expected_frequencies = np.full(k, n/k)\n",
        "chi_squared_statistic = np.sum((observed_frequencies - expected_frequencies)**2 / expected_frequencies)\n",
        "\n",
        "p_value = 1 - chi2.cdf(chi_squared_statistic, k-1)\n",
        "\n",
        "# Verificar la hipótesis nula en un 95% de intervalo de confianza\n",
        "alpha = 0.05\n",
        "if p_value > alpha:\n",
        "    uniformity_result = \"La secuencia cumple con el criterio de uniformidad\"\n",
        "else:\n",
        "    uniformity_result = \"La secuencia no cumple con el criterio de uniformidad\"\n",
        "\n",
        "# Realizar el test de aleatoriedad de rachas\n",
        "runs_z_score, runs_result = run_test_of_runs(numbers)\n",
        "\n",
        "# Mostrar los resultados\n",
        "print(\"Test de uniformidad Chi-cuadrado:\")\n",
        "print(f\"P-valor: {p_value}\")\n",
        "print(uniformity_result)\n",
        "\n",
        "print(\"\\nTest de aleatoriedad de rachas:\")\n",
        "print(f\"Z-score: {runs_z_score}\")\n",
        "print(runs_result)\n",
        "\n"
      ],
      "metadata": {
        "id": "GYxtiPymK78f",
        "outputId": "3579b848-830b-4b8b-f7a3-4ad8ab692286",
        "colab": {
          "base_uri": "https://localhost:8080/"
        }
      },
      "execution_count": 18,
      "outputs": [
        {
          "output_type": "stream",
          "name": "stdout",
          "text": [
            "Test de uniformidad Chi-cuadrado:\n",
            "P-valor: 0.0\n",
            "La secuencia no cumple con el criterio de uniformidad\n",
            "\n",
            "Test de aleatoriedad de rachas:\n",
            "Z-score: 1.284678554784027\n",
            "La secuencia cumple con el criterio de aleatoriedad\n"
          ]
        }
      ]
    },
    {
      "cell_type": "markdown",
      "source": [
        "**c)** $x_0=115, x_n = (51x_{n-1}+31) \\mod 1002$"
      ],
      "metadata": {
        "id": "lVBBQd4rK9_a"
      }
    },
    {
      "cell_type": "markdown",
      "source": [],
      "metadata": {
        "id": "1PMIiF0YKulH"
      }
    },
    {
      "cell_type": "code",
      "source": [
        "import numpy as np\n",
        "from scipy.stats import chi2\n",
        "\n",
        "def generate_random_numbers(seed, a, m, n):\n",
        "    numbers = [seed]\n",
        "    for _ in range(n-1):\n",
        "        numbers.append((a * numbers[-1]) % m)\n",
        "    return np.array(numbers)\n",
        "\n",
        "def run_test_of_runs(numbers):\n",
        "    runs = [1 if numbers[i] < numbers[i+1] else 0 for i in range(len(numbers)-1)]\n",
        "\n",
        "    n1 = sum(runs)\n",
        "    n2 = len(runs) - n1\n",
        "\n",
        "    runs_var = (2 * n1 * n2 * (2 * n1 * n2 - len(runs))) / ((len(runs) ** 2) * (len(runs) - 1))\n",
        "    runs_z_score = (sum(runs) - (2 * n1 * n2) / len(runs)) / np.sqrt(runs_var)\n",
        "\n",
        "    alpha = 0.05\n",
        "    if abs(runs_z_score) < 1.96:\n",
        "        result = \"La secuencia cumple con el criterio de aleatoriedad\"\n",
        "    else:\n",
        "        result = \"La secuencia no cumple con el criterio de aleatoriedad\"\n",
        "\n",
        "    return runs_z_score, result\n",
        "\n",
        "# Parámetros del generador de números pseudo-aleatorios\n",
        "seed = 115\n",
        "a = 51+31\n",
        "m = 1002\n",
        "n = 1000\n",
        "k = 100\n",
        "\n",
        "# Generar la secuencia de números pseudo-aleatorios\n",
        "numbers = generate_random_numbers(seed, a, m, n)\n",
        "\n",
        "# Realizar el test de uniformidad Chi-cuadrado\n",
        "intervals = np.linspace(0, 1, k+1)\n",
        "observed_frequencies = np.histogram(numbers, bins=intervals)[0]\n",
        "expected_frequencies = np.full(k, n/k)\n",
        "chi_squared_statistic = np.sum((observed_frequencies - expected_frequencies)**2 / expected_frequencies)\n",
        "\n",
        "p_value = 1 - chi2.cdf(chi_squared_statistic, k-1)\n",
        "\n",
        "# Verificar la hipótesis nula en un 95% de intervalo de confianza\n",
        "alpha = 0.05\n",
        "if p_value > alpha:\n",
        "    uniformity_result = \"La secuencia cumple con el criterio de uniformidad\"\n",
        "else:\n",
        "    uniformity_result = \"La secuencia no cumple con el criterio de uniformidad\"\n",
        "\n",
        "# Realizar el test de aleatoriedad de rachas\n",
        "runs_z_score, runs_result = run_test_of_runs(numbers)\n",
        "\n",
        "# Mostrar los resultados\n",
        "print(\"Test de uniformidad Chi-cuadrado:\")\n",
        "print(f\"P-valor: {p_value}\")\n",
        "print(uniformity_result)\n",
        "\n",
        "print(\"\\nTest de aleatoriedad de rachas:\")\n",
        "print(f\"Z-score: {runs_z_score}\")\n",
        "print(runs_result)"
      ],
      "metadata": {
        "id": "u5b2j1d1K-py",
        "outputId": "5a448d69-d245-4460-909d-0e68dc15d9d5",
        "colab": {
          "base_uri": "https://localhost:8080/"
        }
      },
      "execution_count": 19,
      "outputs": [
        {
          "output_type": "stream",
          "name": "stdout",
          "text": [
            "Test de uniformidad Chi-cuadrado:\n",
            "P-valor: 0.0\n",
            "La secuencia no cumple con el criterio de uniformidad\n",
            "\n",
            "Test de aleatoriedad de rachas:\n",
            "Z-score: 0.09524942351094615\n",
            "La secuencia cumple con el criterio de aleatoriedad\n"
          ]
        }
      ]
    },
    {
      "cell_type": "markdown",
      "metadata": {
        "id": "HPcnL2-6xy9E"
      },
      "source": [
        "## **4. Estimación de $\\pi$.** ([Ejemplo 3a, Capítulo 3 \\[Ross99\\]](https://drive.google.com/file/d/0B0MRo23s_UhyWkt6Z2V2dWc1d3M/view)) ##\n",
        "\n",
        "Suponga dos variables aleatorias $X$ y $Y$ uniformemente distribuidas donde cada valor representan una coordenada aleatoria de un punto $(x,y)$ que cae en un cuadrado de área 4 centrado en el origen. Esto significa que es un cuadrado de lado $L=2$ que van de $-1$ a $1$ para el eje-x y el eje-y respectivamente.\n",
        "\n",
        "Considere ahora la probabilidad de que un punto aleatorio $(x,y)$ en el cuadrado este contenido en un circulo circunscrito de radio 1 (Ver Figura 1).\n",
        "Note que una vez que los puntos del vector conformado por las dos variables aleatorias $(X,Y)$ esta uniformemente distribuido en el cuadrado resulta que:\n",
        "\n",
        "$$\n",
        "\\begin{align*}\n",
        "P\\{(X,Y)\\: esta\\: en\\: el\\: circulo\\} &= P\\{X^2+Y^2\\leqslant 1\\}\\\\\n",
        " &= \\frac{Area\\: del\\:  circulo}{Area\\: del\\: cuadrado} = \\frac{\\pi}{4}\n",
        "\\end{align*}\n",
        "$$\n"
      ]
    },
    {
      "cell_type": "markdown",
      "metadata": {
        "id": "ub-gPI7PU_AG"
      },
      "source": [
        "![image.png](data:image/png;base64,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)\n",
        "\n",
        "**Figura 1.** Círculo (<span style=\"color:blue\">azul</span>) dentro de un cuadrado (negro)."
      ]
    },
    {
      "cell_type": "markdown",
      "metadata": {
        "id": "wKu67QdKU9yz"
      },
      "source": [
        "Por lo tanto, si se genera una gran cantidad de puntos aleatorios $(x,y)$ en el cuadrado, la proporción de puntos que caen en el circulo será aproximadamente $\\frac{\\pi}{4}$. Ahora, si $X$ y $Y$ son variables aleatorias independientes y  uniformemente distribuidas en el intervalo $(-1,1)$, su densidad conjunta sería:\n",
        "\n",
        "$$\n",
        "\\begin{align*}\n",
        "f(x,y) &= f(x)f(y)\\\\\n",
        " &= \\frac{1}{2} \\cdot \\frac{1}{2}\\\\\n",
        " &= \\frac{1}{4},\\;  -1\\leqslant x\\leqslant 1,\\;  -1\\leqslant y\\leqslant 1\n",
        "\\end{align*}\n",
        "$$\n",
        "\n",
        "Dado que la función de densidad de $(X,Y)$ es constante en el cuadrado, se sigue (por definición) que $(X,Y)$ estan uniformemente distribuidos en el cuadrado. Ahora, si $U$ es uniforme en $(0,1)$, entonces $2U$ es uniforme en $(0,2)$, por lo que $2U-1$ es uniforme en $(-1,1)$. Por lo tanto, si se genera números aleatorios $U_1$ y $U_2$, se establece $X = 2U_1-1$ y $Y = 2U_2-1$, y se define la función $I$:\n",
        "\n",
        "\n",
        "$$\n",
        "I=\\left\\{\\begin{matrix}\n",
        "1 & si\\: \\: X^2 + Y^2 \\leqslant 1 \\\\\n",
        "0 & de\\: \\: lo\\: \\: contrario\n",
        "\\end{matrix}\\right.\n",
        "$$\n",
        "\n",
        "entonces el valor esperado $E[I]$ seria:\n",
        "\n",
        "$$E[I]=P\\left \\{ X^2 + Y^2 \\leqslant 1 \\right \\} = \\frac{\\pi}{4}$$\n",
        "\n",
        "Por tanto, se puede estimar $\\frac{\\pi}{4}$ generando un gran número de puntos $(x,y)$ a partir de los números aleatorios $u_1,u_2$ y calculando $\\frac{\\pi}{4}$ por la fracción de puntos del total que caen en el circulo, esto es para aquellos que se cuemple que $(2u_1-1)^2 + (2u_2-1)^2 \\leqslant 1$.\n",
        "\n",
        "## 4.1.\n",
        "Implemente un método que permita estimar el valor de $\\frac{\\pi}{4}$ por medio de la generación de parejas de valores aleatorios $u_1,u_2$ donde para cada valor $u_1$ y $u_2$ se obtenga de una secuencia aleatoria de diferente correspondiente a un buen generador congruencial mixto distinto.\n"
      ]
    },
    {
      "cell_type": "code",
      "metadata": {
        "id": "brnOj6umedLv",
        "outputId": "7016fe88-ca82-46b3-e5b5-af5160b8fb55",
        "colab": {
          "base_uri": "https://localhost:8080/"
        }
      },
      "source": [
        "import random\n",
        "\n",
        "def aprox(U_1, U_2):\n",
        "    num_circ = sum(((2 * u1 - 1) ** 2 + (2 * u2 - 1) ** 2) <= 2 for u1, u2 in zip(U_1, U_2))\n",
        "    return num_circ / len(U_1)\n",
        "\n",
        "def genranN(a, c, m, x0, N):\n",
        "    I = []\n",
        "    X = []\n",
        "    U = []\n",
        "    xn = x0\n",
        "    for i in range(N):\n",
        "        xn = (a * xn + c) % m\n",
        "        I.append(i+1)\n",
        "        X.append(xn)\n",
        "        U.append(xn / m)\n",
        "    return I, X, U\n",
        "\n",
        "N1 = 1000\n",
        "N2 = N1\n",
        "a1 = 22695477\n",
        "a2 = 1664525\n",
        "c1 = 1\n",
        "c2 = 1013904223\n",
        "m1 = 2 ** 32\n",
        "m2 = m1\n",
        "x0_1 = 4031\n",
        "x0_2 = 2022\n",
        "\n",
        "I_1, X_1, U_1 = genranN(a1, c1, m1, x0_1, N1)\n",
        "I_2, X_2, U_2 = genranN(a2, c2, m2, x0_2, N2)\n",
        "\n",
        "res = aprox(U_1, U_2)\n",
        "\n",
        "print(\"Generador 1:\")\n",
        "print(f\"Iteraciones: {I_1}\")\n",
        "print(f\"Valores generados: {X_1}\")\n",
        "print(f\"Números pseudo-aleatorios: {U_1}\\n\")\n",
        "\n",
        "print(\"Generador 2:\")\n",
        "print(f\"Iteraciones: {I_2}\")\n",
        "print(f\"Valores generados: {X_2}\")\n",
        "print(f\"Números pseudo-aleatorios: {U_2}\\n\")\n",
        "\n",
        "print(\"Aproximación de π/4:\", res)\n"
      ],
      "execution_count": 20,
      "outputs": [
        {
          "output_type": "stream",
          "name": "stdout",
          "text": [
            "Generador 1:\n",
            "Iteraciones: [1, 2, 3, 4, 5, 6, 7, 8, 9, 10, 11, 12, 13, 14, 15, 16, 17, 18, 19, 20, 21, 22, 23, 24, 25, 26, 27, 28, 29, 30, 31, 32, 33, 34, 35, 36, 37, 38, 39, 40, 41, 42, 43, 44, 45, 46, 47, 48, 49, 50, 51, 52, 53, 54, 55, 56, 57, 58, 59, 60, 61, 62, 63, 64, 65, 66, 67, 68, 69, 70, 71, 72, 73, 74, 75, 76, 77, 78, 79, 80, 81, 82, 83, 84, 85, 86, 87, 88, 89, 90, 91, 92, 93, 94, 95, 96, 97, 98, 99, 100, 101, 102, 103, 104, 105, 106, 107, 108, 109, 110, 111, 112, 113, 114, 115, 116, 117, 118, 119, 120, 121, 122, 123, 124, 125, 126, 127, 128, 129, 130, 131, 132, 133, 134, 135, 136, 137, 138, 139, 140, 141, 142, 143, 144, 145, 146, 147, 148, 149, 150, 151, 152, 153, 154, 155, 156, 157, 158, 159, 160, 161, 162, 163, 164, 165, 166, 167, 168, 169, 170, 171, 172, 173, 174, 175, 176, 177, 178, 179, 180, 181, 182, 183, 184, 185, 186, 187, 188, 189, 190, 191, 192, 193, 194, 195, 196, 197, 198, 199, 200, 201, 202, 203, 204, 205, 206, 207, 208, 209, 210, 211, 212, 213, 214, 215, 216, 217, 218, 219, 220, 221, 222, 223, 224, 225, 226, 227, 228, 229, 230, 231, 232, 233, 234, 235, 236, 237, 238, 239, 240, 241, 242, 243, 244, 245, 246, 247, 248, 249, 250, 251, 252, 253, 254, 255, 256, 257, 258, 259, 260, 261, 262, 263, 264, 265, 266, 267, 268, 269, 270, 271, 272, 273, 274, 275, 276, 277, 278, 279, 280, 281, 282, 283, 284, 285, 286, 287, 288, 289, 290, 291, 292, 293, 294, 295, 296, 297, 298, 299, 300, 301, 302, 303, 304, 305, 306, 307, 308, 309, 310, 311, 312, 313, 314, 315, 316, 317, 318, 319, 320, 321, 322, 323, 324, 325, 326, 327, 328, 329, 330, 331, 332, 333, 334, 335, 336, 337, 338, 339, 340, 341, 342, 343, 344, 345, 346, 347, 348, 349, 350, 351, 352, 353, 354, 355, 356, 357, 358, 359, 360, 361, 362, 363, 364, 365, 366, 367, 368, 369, 370, 371, 372, 373, 374, 375, 376, 377, 378, 379, 380, 381, 382, 383, 384, 385, 386, 387, 388, 389, 390, 391, 392, 393, 394, 395, 396, 397, 398, 399, 400, 401, 402, 403, 404, 405, 406, 407, 408, 409, 410, 411, 412, 413, 414, 415, 416, 417, 418, 419, 420, 421, 422, 423, 424, 425, 426, 427, 428, 429, 430, 431, 432, 433, 434, 435, 436, 437, 438, 439, 440, 441, 442, 443, 444, 445, 446, 447, 448, 449, 450, 451, 452, 453, 454, 455, 456, 457, 458, 459, 460, 461, 462, 463, 464, 465, 466, 467, 468, 469, 470, 471, 472, 473, 474, 475, 476, 477, 478, 479, 480, 481, 482, 483, 484, 485, 486, 487, 488, 489, 490, 491, 492, 493, 494, 495, 496, 497, 498, 499, 500, 501, 502, 503, 504, 505, 506, 507, 508, 509, 510, 511, 512, 513, 514, 515, 516, 517, 518, 519, 520, 521, 522, 523, 524, 525, 526, 527, 528, 529, 530, 531, 532, 533, 534, 535, 536, 537, 538, 539, 540, 541, 542, 543, 544, 545, 546, 547, 548, 549, 550, 551, 552, 553, 554, 555, 556, 557, 558, 559, 560, 561, 562, 563, 564, 565, 566, 567, 568, 569, 570, 571, 572, 573, 574, 575, 576, 577, 578, 579, 580, 581, 582, 583, 584, 585, 586, 587, 588, 589, 590, 591, 592, 593, 594, 595, 596, 597, 598, 599, 600, 601, 602, 603, 604, 605, 606, 607, 608, 609, 610, 611, 612, 613, 614, 615, 616, 617, 618, 619, 620, 621, 622, 623, 624, 625, 626, 627, 628, 629, 630, 631, 632, 633, 634, 635, 636, 637, 638, 639, 640, 641, 642, 643, 644, 645, 646, 647, 648, 649, 650, 651, 652, 653, 654, 655, 656, 657, 658, 659, 660, 661, 662, 663, 664, 665, 666, 667, 668, 669, 670, 671, 672, 673, 674, 675, 676, 677, 678, 679, 680, 681, 682, 683, 684, 685, 686, 687, 688, 689, 690, 691, 692, 693, 694, 695, 696, 697, 698, 699, 700, 701, 702, 703, 704, 705, 706, 707, 708, 709, 710, 711, 712, 713, 714, 715, 716, 717, 718, 719, 720, 721, 722, 723, 724, 725, 726, 727, 728, 729, 730, 731, 732, 733, 734, 735, 736, 737, 738, 739, 740, 741, 742, 743, 744, 745, 746, 747, 748, 749, 750, 751, 752, 753, 754, 755, 756, 757, 758, 759, 760, 761, 762, 763, 764, 765, 766, 767, 768, 769, 770, 771, 772, 773, 774, 775, 776, 777, 778, 779, 780, 781, 782, 783, 784, 785, 786, 787, 788, 789, 790, 791, 792, 793, 794, 795, 796, 797, 798, 799, 800, 801, 802, 803, 804, 805, 806, 807, 808, 809, 810, 811, 812, 813, 814, 815, 816, 817, 818, 819, 820, 821, 822, 823, 824, 825, 826, 827, 828, 829, 830, 831, 832, 833, 834, 835, 836, 837, 838, 839, 840, 841, 842, 843, 844, 845, 846, 847, 848, 849, 850, 851, 852, 853, 854, 855, 856, 857, 858, 859, 860, 861, 862, 863, 864, 865, 866, 867, 868, 869, 870, 871, 872, 873, 874, 875, 876, 877, 878, 879, 880, 881, 882, 883, 884, 885, 886, 887, 888, 889, 890, 891, 892, 893, 894, 895, 896, 897, 898, 899, 900, 901, 902, 903, 904, 905, 906, 907, 908, 909, 910, 911, 912, 913, 914, 915, 916, 917, 918, 919, 920, 921, 922, 923, 924, 925, 926, 927, 928, 929, 930, 931, 932, 933, 934, 935, 936, 937, 938, 939, 940, 941, 942, 943, 944, 945, 946, 947, 948, 949, 950, 951, 952, 953, 954, 955, 956, 957, 958, 959, 960, 961, 962, 963, 964, 965, 966, 967, 968, 969, 970, 971, 972, 973, 974, 975, 976, 977, 978, 979, 980, 981, 982, 983, 984, 985, 986, 987, 988, 989, 990, 991, 992, 993, 994, 995, 996, 997, 998, 999, 1000]\n",
            "Valores generados: [1291154572, 1032571133, 4213158498, 3193817675, 1718336392, 2101429033, 2523096446, 2546755351, 164649412, 3596897685, 3452532186, 1161941539, 1744120640, 2909762625, 4250460022, 2365077359, 3159182332, 1002406701, 57663058, 1186595579, 1487476728, 1165985369, 3533696622, 2523783367, 1815227188, 332712389, 2764688330, 149077203, 564617648, 4283095409, 2339992166, 2128331551, 4040742764, 377454941, 1501699650, 308043691, 1063512168, 2903428489, 567954270, 1647591031, 2897162404, 3737061877, 3350705594, 4023077763, 2770766880, 1391248033, 1542150486, 2066592463, 414652124, 3426141069, 1132294706, 2304237659, 1888169176, 1349130425, 1669954638, 2160230439, 537291284, 4105047589, 3462017962, 137264691, 1828825744, 2582654929, 2915406918, 2477852287, 1262946892, 630213053, 1724439074, 1275036939, 1733158216, 38561769, 845447486, 3153831383, 3157710724, 4117550677, 2813871514, 4034876643, 1359461632, 2486182145, 4083098422, 4134059567, 4180128188, 3849786349, 3087750674, 3806743995, 874189240, 4222663449, 3563215406, 3523391367, 2290055412, 2466669189, 2316888970, 2272317331, 4131898224, 4291270193, 3259958822, 2643974623, 1547177260, 4178977309, 1798039042, 1860123243, 3970019880, 198316617, 716834590, 624598327, 224349796, 3250959029, 3808634234, 2616585795, 1058061792, 3373371233, 3278650646, 4290861455, 3885440156, 2815980621, 3813771762, 1492994843, 466667160, 3358289273, 2715977742, 1816555239, 3298121684, 3895838437, 1195242346, 2638328051, 3136400464, 984157329, 2731395078, 3215473983, 3080970252, 3278441085, 2732802530, 43220939, 836194056, 3161967785, 563272958, 1644766359, 2300613956, 253861653, 1657820506, 1254561699, 381259456, 761859521, 4291471094, 1548715247, 33380220, 3618825389, 998772178, 1966397563, 4096019320, 2595368921, 4240573934, 1973796423, 121636532, 294927173, 3909176138, 1681465939, 2356634928, 946639601, 1559878118, 3774492831, 2239922924, 1524695773, 1042738626, 313808171, 3982932968, 1796577033, 3785818846, 2055158775, 745712676, 3436747637, 2220348730, 1502269699, 1400516512, 3775831073, 271737046, 2502639695, 4199703132, 3713950989, 719774130, 1160050139, 3717046360, 3156017721, 3384333262, 1480105383, 2541192596, 1350156197, 3332043562, 4209976243, 273739280, 3404343633, 847985606, 2896540671, 2177627596, 970328893, 1630464418, 786021003, 700971208, 3531829609, 3920525502, 3132416855, 139301636, 239249365, 416392474, 685316707, 1154130048, 3889838721, 2421910198, 4151085999, 378420540, 3308451181, 262538642, 1516610363, 1283769656, 3645105305, 2709451182, 3256290567, 3493057652, 171856901, 2873289482, 2214311187, 3220588272, 2818166705, 2570710438, 2445461343, 4235737260, 2124424093, 607335810, 1788588011, 1165165992, 295263177, 1818312350, 2999065271, 1101613540, 179815477, 1702216954, 491385795, 237166944, 698607841, 1342030998, 2485872399, 816375836, 1065915853, 1006467442, 3398361243, 159496728, 50255609, 3503054734, 2774076519, 544011092, 3359242341, 3593548522, 636933747, 3906957264, 1769178641, 985526150, 3278465727, 3648998284, 3952561149, 2473316706, 1569862987, 4074758792, 2872006185, 1349997694, 918479383, 293458116, 495972501, 595342554, 2675268899, 2801463872, 1917036353, 1389457014, 1082118767, 3063571196, 2696365613, 4129635666, 792243707, 821853944, 2921716057, 1482235246, 941005767, 186311220, 935636165, 4204645066, 192448467, 2894358704, 2368687217, 4107223398, 951164447, 2430152300, 3876815965, 2937109826, 592792235, 948342632, 2250072201, 816364126, 1589852535, 3301124004, 3324194037, 2149381306, 468932227, 3670725408, 1905358241, 3498993750, 2508312015, 2858069468, 3776382605, 2018857266, 2784693083, 862786520, 3012619193, 3973917518, 4100438823, 657826068, 708210981, 1069593258, 1662568755, 6107536, 1963270865, 3643138886, 2897437055, 780001612, 2070727869, 1801058594, 1534914571, 1893665864, 3980098281, 1538093118, 2263294167, 3161542276, 2814998869, 479200410, 56352739, 1225425920, 3143980033, 887927350, 4031338799, 2715928764, 2634012397, 4039488786, 3496868027, 3578493112, 1343753753, 4145056046, 2556717703, 531967988, 2498184581, 1087498890, 1601149587, 2917255792, 1724713265, 762959142, 2659628255, 1382376492, 1459299613, 2961147138, 698426731, 1247893800, 2405541193, 3560797726, 1329764407, 1837122916, 2312820149, 235758714, 3393648963, 1697776864, 3348578913, 530861078, 1911452815, 3341267868, 348763981, 2175690994, 3559487003, 789556632, 613630073, 2477471502, 639936999, 3012660948, 2435787237, 218722922, 924122099, 1384788816, 2355036049, 1803753222, 1363384383, 814200588, 3424030077, 1522098402, 895085259, 3347412488, 2137513897, 1360055294, 2616041367, 1625820228, 1471103509, 3721204826, 3914113699, 1991857600, 4060037313, 1684878838, 4287176687, 3626266236, 751609773, 1095199954, 1522893691, 2905715320, 903512793, 2472883438, 3821041991, 3049438644, 1550196293, 664750666, 614526291, 1607363632, 4086498801, 1090103526, 3422686111, 2430392812, 3507946973, 977243330, 2856271915, 1052992232, 874916361, 1021276638, 2499819255, 866165540, 547274357, 2298942522, 3708083203, 2568517280, 2054508321, 184512470, 1110530895, 651163996, 1835051021, 969457842, 2446991579, 271157080, 3972388153, 2062975694, 1531959463, 222346388, 1474568869, 2278257194, 1722511027, 455505168, 2386631761, 2408942278, 3654946559, 3478965452, 5541437, 323618978, 938026379, 1519591368, 2289337449, 3059836862, 2794610263, 2527201796, 402737877, 2163434522, 638035299, 3150407552, 2228317569, 1326643638, 2801739439, 2569163836, 48085101, 1768580242, 721374779, 1819225144, 372062105, 2199330990, 1525336071, 3036908404, 151074565, 2563107338, 1070366739, 2651475440, 843137713, 1829682342, 165913183, 3690958764, 2552702621, 2651903106, 300915435, 426552488, 3140153033, 2421075358, 2159809975, 1323581668, 2502879029, 2865366010, 1223491267, 2721982560, 418094049, 2690634646, 1594524175, 2836627228, 3181107405, 3261356146, 1540164507, 712679704, 3806898681, 2558463630, 4104734567, 3154324052, 420830053, 969322986, 4137427315, 3589404368, 2573957393, 589119110, 2939602367, 985473676, 2061946621, 2261512290, 4025131083, 3452438920, 1864460585, 1365197694, 395664663, 895436740, 327127957, 1606611930, 3461146659, 3824466240, 580639297, 2728263030, 1600875887, 1687910908, 301140269, 720280658, 3722139899, 113501688, 3889179737, 1541819502, 2124633799, 1161271604, 1433964485, 3188050378, 3585233619, 2220191664, 1637334897, 796463206, 3773528351, 59606380, 787187549, 1840471106, 225588651, 505230952, 2872046473, 877341022, 2738238583, 923475620, 843796469, 1830171578, 1119838595, 3965917728, 1908025505, 763721558, 1631185103, 1840399580, 406538637, 2101424178, 4005705307, 297990872, 498843321, 570743374, 2465265191, 2274940948, 2944586789, 3971690922, 732369971, 1051506832, 211686865, 1138373190, 2048507007, 3798513740, 3733802941, 3875477538, 706632459, 82064200, 3660484073, 667574078, 2679544791, 1423951236, 3035241557, 335266714, 920414947, 4211165952, 3122562817, 1288585526, 3784176687, 4199538620, 2362218989, 2274628626, 1343857595, 2951733176, 3783483673, 4086478894, 262808967, 3458131700, 1015818373, 18803082, 1259496851, 1852821872, 5667889, 1173922854, 433688543, 390511404, 1478764573, 2061968386, 2307330155, 3499425832, 3405068361, 3465864478, 3442381623, 2748660836, 2192832693, 162243450, 1060897859, 591875040, 2476799329, 1076910870, 562007951, 3563866780, 3489593933, 203376626, 1199153435, 2579666072, 4093580153, 2370299406, 384230631, 2009187796, 904695013, 2859004266, 2324449011, 1360443984, 2258170513, 1334601222, 591590207, 1981779468, 235409533, 2778955746, 4081341899, 598187272, 2958815913, 2137176830, 800463511, 1289978692, 2801853717, 2002637658, 4101385635, 1286413504, 2048488385, 2070136054, 640072431, 1509918076, 3861539501, 3239758802, 2658807419, 3685947768, 2047268313, 1608279022, 247411783, 4151932084, 4177264965, 198265162, 1152170067, 4162417456, 3443357937, 2924312550, 3178096287, 1726689516, 378603741, 3614190530, 3001953067, 4103342568, 557497609, 1156309214, 258290167, 2365757988, 1361633653, 4199174970, 4079150851, 850050464, 3445621281, 2787147478, 3097196111, 2097254492, 2007427853, 1354670002, 2729659355, 3594088024, 4235372601, 2416456142, 2706052007, 3560829844, 118654373, 3163549994, 3624647091, 1223687184, 3860598609, 3824409030, 3547490815, 3852575692, 739709245, 1954097058, 2552008843, 2379368136, 409573225, 3722991294, 4166244695, 3039461636, 3565415893, 2745770778, 3688509539, 1689792128, 3511459969, 2619246774, 1710604719, 3278531388, 3503061869, 1497547666, 633141563, 1036882744, 1746569881, 4135800750, 3164766983, 2835825268, 92805637, 3353143562, 2806074131, 4245837040, 3339498929, 2788658086, 342392159, 2184898220, 2901551517, 3573707650, 4133979627, 2379895720, 4106256841, 3171949726, 3130658999, 710096868, 2825521717, 4172432122, 1395919299, 1179479904, 2914471649, 1830150806, 2135792911, 1194464796, 3790805965, 1826568050, 2100246171, 451381272, 232160505, 537247118, 2463990375, 617439572, 3182739045, 2901422314, 417688691, 2717416912, 1239903249, 3738209670, 4083687615, 1622079884, 2608484861, 1161826146, 2774993739, 3877908616, 2031582249, 152777342, 1783617559, 1702149828, 1748186773, 4070421210, 29913891, 249724992, 1853361473, 1555991670, 431687791, 3058733308, 1064487981, 298580818, 2191655931, 3388951800, 2726199129, 1296530286, 2585006535, 176705588, 485520069, 1593952458, 2542804435, 2568648368, 746861169, 2876694374, 2810795039, 955636844, 2651294301, 90831682, 11739307, 3760708968, 3427174025, 2629933150, 1603088247, 4085716388, 3543626485, 4272124602, 2486135939, 3387908384, 57072545, 3805316694, 240518095, 1388174300, 564366477, 3259043634, 2477613403, 4220314072, 1055560121, 1929414990, 2354983207, 825233172, 882063141, 1162457258, 2446942003, 401620880, 280692945, 1575125318, 736368511, 1460113228, 4277260989, 1236809506, 3890464267, 324885064, 2032509161, 112938558, 912922327, 1971469444, 3436101461, 4261118618, 3137402339, 1458311680, 1079753217, 2869153846, 4197879599, 4067555004, 1692228845, 3967185682, 2447986363, 3020441272, 1609741337, 971564846, 1741938823, 2210176500, 972360581, 989849738, 2052665491, 670161008, 2086924081, 2076930854, 1066429151, 2598113836, 2895194909, 979550978, 3197172587, 1866245928, 1854720841, 2311083038, 3472789047, 2690528100, 1548819381, 1172169338, 718606147, 1766888160, 3710822497, 2500880918, 1047833231, 4284801436, 2306358605, 4070844146, 3807235099, 1273592728, 3866027641, 4273509646, 1854742503, 19266772, 2255351781, 2405199978, 3349647859, 2794930512, 3646350737, 3202987270, 1705397823, 2020304140, 960336765, 4087455458, 1817362635, 910017544, 4283696553, 478718462, 1298306455, 1024653892, 2903934997, 2676134490, 2621683875, 2291459008, 1974970049, 3031323638, 2643439, 2005834876, 3016502701, 721562322, 1884477819, 1873313912, 389490905, 3525808878, 648146759, 3160681396, 2538988613, 93800522, 4099703635, 1163426352, 1970007025, 351618790, 3846029727, 4155344876, 3679390685, 2242693826, 1556157995, 4275613928, 3797110793, 1774997470, 430845175, 681087268, 242680949, 1210159674, 3420779011, 271647904, 2312025377, 1368755670, 678007119, 3974571868, 2888904205, 3754458802, 2813359835, 532501848, 2602793785, 2028855502, 1512722087, 3698272916, 235202725, 3572002858, 2131756211, 2309849872, 2189099601, 2678466758, 3379479807, 3030022860, 1830655037, 4105979554, 2138307467, 3011866056, 845326953, 3494069694, 3757659223, 1407645700, 4090138837, 4042449434, 2052111203, 798815616, 2102121345, 3883800502, 1682988207, 2238087740, 3741269613, 1328489106, 2057217083, 2963274296, 2131484057, 1807974062, 389955079, 2621372788, 2949840133, 2827479050, 3931772435, 3440270320, 375138481, 3031718566, 3780204639, 3744087468, 1828793501, 956830338, 1208185067, 2461792936, 1851397321, 1655016350, 2421951415]\n",
            "Números pseudo-aleatorios: [0.30062035005539656, 0.24041420151479542, 0.9809524049051106, 0.7436186249833554, 0.40008136816322803, 0.48927707434631884, 0.5874541695229709, 0.5929626876022667, 0.038335428573191166, 0.8374680031556636, 0.8038552911020815, 0.27053559641353786, 0.40608473122119904, 0.6774819048587233, 0.9896373427473009, 0.5506624837871641, 0.7355544557794929, 0.23339099739678204, 0.013425726909190416, 0.2762758124154061, 0.34633016400039196, 0.2714771239552647, 0.8227528589777648, 0.5876141057815403, 0.4226405145600438, 0.07746563968248665, 0.6437041633762419, 0.034709741128608584, 0.131460290402174, 0.997235860908404, 0.5448218821547925, 0.49554080492816865, 0.9408087385818362, 0.08788307686336339, 0.34964169608429074, 0.07172201084904373, 0.24761822260916233, 0.6760071238968521, 0.13223715825006366, 0.38360968022607267, 0.6745481872931123, 0.8701025221962482, 0.7801469401456416, 0.93669578502886, 0.6451194360852242, 0.32392517500557005, 0.35905989026650786, 0.48116605333052576, 0.09654372092336416, 0.797710630344227, 0.2636329052038491, 0.5364971372764558, 0.43962364457547665, 0.3141189052257687, 0.38881661323830485, 0.5029678435530514, 0.12509787548333406, 0.9557808723766357, 0.806063870433718, 0.031959426356479526, 0.425806675106287, 0.601321209454909, 0.6787960692308843, 0.5769199428614229, 0.29405273776501417, 0.14673291076906025, 0.4015022595413029, 0.2968676711898297, 0.4035323429852724, 0.008978361496701837, 0.19684608234092593, 0.7343085908796638, 0.7352118203416467, 0.9586919744033366, 0.6551555157639086, 0.9394429258536547, 0.31652432680130005, 0.5788593890611082, 0.9506704336963594, 0.9625357498880476, 0.9732619365677238, 0.8963482335675508, 0.7189229768700898, 0.8863266545813531, 0.20353804342448711, 0.9831654487643391, 0.8296257364563644, 0.8203534798230976, 0.5331950755789876, 0.5743161749560386, 0.539442750159651, 0.5290651067625731, 0.9620325230062008, 0.9991392011288553, 0.7590183108113706, 0.6155983132775873, 0.3602302772924304, 0.972993976669386, 0.4186385874636471, 0.43309369194321334, 0.9243422839790583, 0.046174185583367944, 0.16690105898305774, 0.14542563050054014, 0.052235507406294346, 0.756922883214429, 0.8867667601443827, 0.6092213548254222, 0.24634920805692673, 0.7854241954628378, 0.7633703402243555, 0.9990440343972296, 0.9046495324000716, 0.6556465805042535, 0.8879629340954125, 0.34761495026759803, 0.10865441523492336, 0.7819126530084759, 0.6323628458194435, 0.422949725529179, 0.7679037945345044, 0.9070705708581954, 0.27828904474154115, 0.6142836182843894, 0.7302501387894154, 0.22914198436774313, 0.6359524740837514, 0.7486608771141618, 0.7173442868515849, 0.7633215480018407, 0.6362801720388234, 0.010063159046694636, 0.1946916002780199, 0.7362029945943505, 0.13114720536395907, 0.3829520100262016, 0.5356534281745553, 0.059106772067025304, 0.38599141547456384, 0.29210040788166225, 0.08876888453960419, 0.1773842426482588, 0.999185977037996, 0.3605883677955717, 0.007771938107907772, 0.8425734445918351, 0.23254476906731725, 0.45783761027269065, 0.9536788146942854, 0.6042814163956791, 0.9873355585150421, 0.4595602916087955, 0.02832071203738451, 0.06866808352060616, 0.9101759963668883, 0.3914967968594283, 0.5486968271434307, 0.22040670760907233, 0.3631874262355268, 0.8788175953086466, 0.5215226961299777, 0.3549958982039243, 0.24278150545433164, 0.07306415843777359, 0.9273488465696573, 0.4182981869671494, 0.8814546386711299, 0.47850394039414823, 0.17362476233392954, 0.8001801643986255, 0.516965223941952, 0.349774420959875, 0.32608316093683243, 0.8791291790548712, 0.06326871132478118, 0.582691211020574, 0.9778195833787322, 0.8647215992677957, 0.16758547397330403, 0.27009522053413093, 0.8654422964900732, 0.7348176373634487, 0.7879764917306602, 0.3446138889994472, 0.5916675077751279, 0.3143577363807708, 0.7758018472231925, 0.9802114784251899, 0.06373489275574684, 0.7926355192903429, 0.1974370344541967, 0.6744034287985414, 0.5070184348151088, 0.2259223007131368, 0.37962207989767194, 0.1830097760539502, 0.16320757754147053, 0.8223181611392647, 0.9128184760920703, 0.72932263254188, 0.03243368957191706, 0.05570458364672959, 0.09694892773404717, 0.15956272999756038, 0.26871684193611145, 0.905673653120175, 0.5638949102722108, 0.9665000250097364, 0.08810789790004492, 0.7703088179696351, 0.06112704100087285, 0.35311336698941886, 0.2989009153097868, 0.8486922143492848, 0.6308432626537979, 0.7581642286386341, 0.8132908614352345, 0.04001355287618935, 0.6689898394979537, 0.5155594989191741, 0.7498516403138638, 0.6561555678490549, 0.5985401659272611, 0.5693783385213464, 0.9862094325944781, 0.4946310289669782, 0.14140638755634427, 0.41643809783272445, 0.2712863478809595, 0.06874631554819643, 0.42335883481428027, 0.698274297406897, 0.25648938957601786, 0.04186655324883759, 0.3963282690383494, 0.11440967093221843, 0.055219732224941254, 0.1626573132816702, 0.312465941067785, 0.578787270700559, 0.1900773113593459, 0.24817787413485348, 0.2343364623375237, 0.7912426355760545, 0.03713572584092617, 0.011701045790687203, 0.8156184884719551, 0.6458900214638561, 0.1266624527052045, 0.7821345564443618, 0.8366882153786719, 0.14829769427888095, 0.9096593745052814, 0.41191900172270834, 0.22946068784222007, 0.7633272854145616, 0.8495986191555858, 0.9202773564029485, 0.5758639206178486, 0.36551220971159637, 0.9487287122756243, 0.6686910486314446, 0.31432083202525973, 0.21385014592669904, 0.06832604203373194, 0.1154775966424495, 0.13861399004235864, 0.6228845797013491, 0.6522666364908218, 0.4463448079768568, 0.32350817089900374, 0.2519504090305418, 0.7132932534441352, 0.6277965412009507, 0.9615057301707566, 0.1844586122315377, 0.19135278277099133, 0.680265030125156, 0.3451097863726318, 0.21909497841261327, 0.04337896127253771, 0.21784477052278817, 0.9789702170528471, 0.04480790044181049, 0.6738954000174999, 0.5515029693488032, 0.9562874673865736, 0.22146023041568696, 0.5658139241859317, 0.9026415564585477, 0.683849171269685, 0.13802019762806594, 0.22080322541296482, 0.5238857588265091, 0.19007458491250873, 0.3701663890387863, 0.7686028266325593, 0.7739742372650653, 0.5004418329335749, 0.1091817922424525, 0.8546573594212532, 0.44362578564323485, 0.814672966953367, 0.5840119009371847, 0.6654461538419127, 0.8792575926054269, 0.4700518366880715, 0.6483618828933686, 0.20088314078748226, 0.7014300657901913, 0.925249773543328, 0.9547078104224056, 0.1531620668247342, 0.16489321854896843, 0.24903408670797944, 0.3870969533454627, 0.0014220215380191803, 0.4571096191648394, 0.8482343717478216, 0.6746121344622225, 0.18160827737301588, 0.48212890257127583, 0.41934163169935346, 0.3573751475196332, 0.44090344198048115, 0.9266888445708901, 0.35811521066352725, 0.5269642376806587, 0.7361039230599999, 0.655417998554185, 0.11157253989949822, 0.013120644493028522, 0.28531670570373535, 0.7320148947183043, 0.20673669641837478, 0.9386192073579878, 0.6323514422401786, 0.613278801785782, 0.9405167740769684, 0.8141780334990472, 0.833182854577899, 0.31286705122329295, 0.9650960671715438, 0.5952822284307331, 0.123858449049294, 0.5816539239604026, 0.25320306653156877, 0.3727966889273375, 0.6792265437543392, 0.401566099608317, 0.17764026811346412, 0.6192429584916681, 0.32185960840433836, 0.33976966817863286, 0.6894457940943539, 0.16261514532379806, 0.29054791666567326, 0.5600837043020874, 0.8290628264658153, 0.30960990278981626, 0.42773851100355387, 0.5384954039473087, 0.054891853127628565, 0.7901454723905772, 0.3952944800257683, 0.7796517836395651, 0.12360072648152709, 0.445044789230451, 0.7779495483264327, 0.08120294217951596, 0.5065675345249474, 0.8287576499860734, 0.18383297882974148, 0.142871884861961, 0.5768312844447792, 0.14899694337509573, 0.7014397876337171, 0.5671259101945907, 0.05092539871111512, 0.21516394312493503, 0.32242127135396004, 0.548324559116736, 0.4199690236710012, 0.3174376634415239, 0.18957084696739912, 0.7972191267181188, 0.3543911506421864, 0.2084032769780606, 0.7793802041560411, 0.4976787364576012, 0.3166625495068729, 0.609094595303759, 0.3785407701507211, 0.3425179768819362, 0.8664105148054659, 0.9113256118725985, 0.463765487074852, 0.9453011008445174, 0.39229142433032393, 0.9981861074920744, 0.8443059017881751, 0.17499778722412884, 0.2549961102195084, 0.35457631829194725, 0.6765395682305098, 0.21036546514369547, 0.575763042550534, 0.8896556661929935, 0.7100027622655034, 0.3609332006890327, 0.1547743254341185, 0.1430805518757552, 0.37424350902438164, 0.9514621461275965, 0.2538095056079328, 0.7969062102492899, 0.5658699227496982, 0.8167575516272336, 0.22753219353035092, 0.6650276284199208, 0.24516885913908482, 0.20370733947493136, 0.2377844969742, 0.5820345261599869, 0.20166988018900156, 0.12742224079556763, 0.5352642671205103, 0.8633553988765925, 0.5980295315384865, 0.478352494770661, 0.04296015715226531, 0.2585656230803579, 0.1516109323129058, 0.42725611035712063, 0.22571949334815145, 0.5697346243541688, 0.06313367746770382, 0.9248936905059963, 0.4803239586763084, 0.3566871078219265, 0.051769052632153034, 0.34332481888122857, 0.5304480888880789, 0.401053351117298, 0.10605556145310402, 0.5556810090783983, 0.560875581111759, 0.850983559852466, 0.8100097654387355, 0.0012902163434773684, 0.07534841494634748, 0.21840128558687866, 0.35380743630230427, 0.5330279117915779, 0.7124237860552967, 0.6506709062959999, 0.5884100208058953, 0.09376971912570298, 0.5037138522602618, 0.14855416934005916, 0.7335114181041718, 0.518820613855496, 0.3088832921348512, 0.6523307969328016, 0.5981800695881248, 0.01119568501599133, 0.4117796760983765, 0.16795815411023796, 0.42357136122882366, 0.08662745938636363, 0.5120716500096023, 0.3551449791993946, 0.7070853384211659, 0.035174788208678365, 0.5967699312604964, 0.24921417678706348, 0.6173447333276272, 0.1963082964066416, 0.4260061173699796, 0.03862967318855226, 0.8593683047220111, 0.59434739430435, 0.6174443070776761, 0.07006233441643417, 0.0993144903331995, 0.7311238518450409, 0.5637005339376628, 0.5028699466492981, 0.3081703716889024, 0.5827469353098422, 0.6671450124122202, 0.28486625920049846, 0.6337609514594078, 0.09734510653652251, 0.6264621964655817, 0.37125408998690546, 0.660453743301332, 0.7406592846382409, 0.7593436506576836, 0.3585974934976548, 0.16593367420136929, 0.8863626702222973, 0.5956887337379158, 0.9557079912628978, 0.7344232993200421, 0.09798213210888207, 0.22568809473887086, 0.9633198648225516, 0.8357233293354511, 0.5992961565498263, 0.13716498157009482, 0.6844295111950487, 0.22944847028702497, 0.4800843589473516, 0.5265493621118367, 0.9371738608460873, 0.8038335759192705, 0.4341035580728203, 0.31785985780879855, 0.09212285815738142, 0.2084851125255227, 0.07616541278548539, 0.37406848976388574, 0.8058610043954104, 0.8904529362916946, 0.13519062125124037, 0.6352232373319566, 0.37273296318016946, 0.3929973831400275, 0.07011468266136944, 0.16770340921357274, 0.8666282284539193, 0.02642667107284069, 0.9055202214512974, 0.35898282704874873, 0.49467985494993627, 0.2703796150162816, 0.3338708740193397, 0.7422758215107024, 0.8347522511612624, 0.5169286541640759, 0.38122173794545233, 0.18544104089960456, 0.8785930348094553, 0.013878191821277142, 0.18328138370998204, 0.4285180722363293, 0.05252395081333816, 0.11763324774801731, 0.6687004289124161, 0.2042718748562038, 0.6375458517577499, 0.21501342300325632, 0.19646167499013245, 0.42612002650275826, 0.26073274086229503, 0.9233871772885323, 0.44424680643714964, 0.17781778192147613, 0.3797898774500936, 0.42850141879171133, 0.09465465252287686, 0.4892759439535439, 0.9326509449165314, 0.06938140653073788, 0.1161460115108639, 0.13288654712960124, 0.5739892811980098, 0.5296759651973844, 0.6855900373775512, 0.9247313537634909, 0.17051817174069583, 0.24482301250100136, 0.04928718903101981, 0.2650481625460088, 0.476955204969272, 0.8844103990122676, 0.8693437420297414, 0.902329929638654, 0.16452569025568664, 0.019107060506939888, 0.8522728628013283, 0.15543170226737857, 0.6238801383879036, 0.3315394828096032, 0.7066972453612834, 0.07806036481633782, 0.2143008045386523, 0.9804884791374207, 0.7270283105317503, 0.30002219742164016, 0.881072293734178, 0.9777812799438834, 0.5499969676602632, 0.5296032470650971, 0.31289122882299125, 0.6872539352625608, 0.8809109388384968, 0.9514575111679733, 0.06118998094461858, 0.8051590295508504, 0.23651364562101662, 0.00437793368473649, 0.29324946249835193, 0.43139370903372765, 0.0013196582440286875, 0.2733252136968076, 0.10097598261199892, 0.09092302154749632, 0.3443017073441297, 0.4800894265063107, 0.5372171651106328, 0.8147735688835382, 0.7928042581770569, 0.8069594572298229, 0.8014919289853424, 0.6399724716320634, 0.5105586473364383, 0.037775246892124414, 0.24700953136198223, 0.13780664652585983, 0.5766747819725424, 0.2507378510199487, 0.13085267296992242, 0.8297773962840438, 0.8124844015110284, 0.04735231073573232, 0.2791996661107987, 0.6006253119558096, 0.9531109018716961, 0.5518783363513649, 0.08946066512726247, 0.4678004877641797, 0.21064072218723595, 0.6656638034619391, 0.5412029593717307, 0.3167530484497547, 0.525771294021979, 0.31073606153950095, 0.13774032867513597, 0.46141898911446333, 0.05481055309064686, 0.6470260550267994, 0.9502614613156766, 0.13927632756531239, 0.6889030134771019, 0.4976002569310367, 0.18637243448756635, 0.30034656915813684, 0.6523574043530971, 0.46627541491761804, 0.9549282572697848, 0.2995164841413498, 0.4769508691970259, 0.4819911099039018, 0.14902847609482706, 0.35155519749969244, 0.8990847275126725, 0.7543151271529496, 0.6190518427174538, 0.8582015912979841, 0.47666679904796183, 0.37445663986727595, 0.05760504468344152, 0.9666970195248723, 0.9725952905137092, 0.046162205282598734, 0.2682604982983321, 0.9691383354365826, 0.8017192448023707, 0.6808695732615888, 0.7399582040961832, 0.4020262314006686, 0.08815055270679295, 0.8414943073876202, 0.698946664808318, 0.9553838912397623, 0.12980252713896334, 0.2692242185585201, 0.06013786583207548, 0.5508209550753236, 0.31703003984875977, 0.9776966110803187, 0.94975131819956, 0.19791779667139053, 0.8022462206427008, 0.6489333412609994, 0.7211221640463918, 0.4883051132783294, 0.4673907191026956, 0.31540868850424886, 0.6355483445804566, 0.8368138279765844, 0.986124528804794, 0.5626250389032066, 0.6300518305506557, 0.8290703045204282, 0.02762637403793633, 0.7365713813342154, 0.8439289152156562, 0.2849118746817112, 0.8988656590227038, 0.8904396160505712, 0.8259645698126405, 0.8969976780936122, 0.17222697963006794, 0.454973675776273, 0.5941858615260571, 0.553989814594388, 0.09536119760014117, 0.866826459299773, 0.9700294339563698, 0.7076798090711236, 0.8301380772609264, 0.6392995775677264, 0.8587980500888079, 0.39343538880348206, 0.8175754847470671, 0.6098409122787416, 0.3982811977621168, 0.7633425733074546, 0.8156201497185975, 0.3486749869771302, 0.14741475763730705, 0.24141807667911053, 0.4066549895796925, 0.9629411506466568, 0.7368547336664051, 0.6602670224383473, 0.02160799619741738, 0.7807145738042891, 0.6533400460612029, 0.9885609708726406, 0.7775376851204783, 0.6492850570939481, 0.07971938676200807, 0.508711258880794, 0.6755701072979718, 0.8320686523802578, 0.9625171374063939, 0.5541126523166895, 0.9560624232981354, 0.7385270963422954, 0.7289133497979492, 0.1653323108330369, 0.6578680400270969, 0.9714700565673411, 0.3250127888750285, 0.27461906522512436, 0.6785783099476248, 0.4261151901446283, 0.4972780381795019, 0.2781080072745681, 0.8826157927978784, 0.4252810147590935, 0.48900166782550514, 0.1050953920930624, 0.05405407981015742, 0.12508759228512645, 0.5736924649681896, 0.14375885296612978, 0.7410391804296523, 0.6755400248803198, 0.09725072677247226, 0.6326979286968708, 0.2886874715331942, 0.8703697635792196, 0.9508076158817858, 0.3776699034497142, 0.6073352091480047, 0.2705087293870747, 0.6461035783868283, 0.9028959590941668, 0.47301460267044604, 0.03557124687358737, 0.4152808242943138, 0.3963126400485635, 0.4070314515847713, 0.9477187902666628, 0.006964870495721698, 0.058143630623817444, 0.4315193446818739, 0.3622825420461595, 0.10051014623604715, 0.7121668448671699, 0.24784542177803814, 0.0695187640376389, 0.5102846610825509, 0.7890518289059401, 0.6347426979336888, 0.3018719810061157, 0.6018687353935093, 0.0411424757912755, 0.1130439501721412, 0.3711209767498076, 0.5920427932869643, 0.5980600528419018, 0.1738921666983515, 0.6697826026938856, 0.6544392181094736, 0.2225015414878726, 0.6173025586176664, 0.021148398984223604, 0.0027332704048603773, 0.8756082896143198, 0.7979511341545731, 0.6123290280811489, 0.37324806838296354, 0.9512799764052033, 0.8250648353714496, 0.9946815208531916, 0.5788486308883876, 0.7888088896870613, 0.013288237387314439, 0.8859943351708353, 0.05599998286925256, 0.3232095157727599, 0.1314018100965768, 0.7588052270002663, 0.5768643233459443, 0.9826184418052435, 0.2457667423877865, 0.44922693399712443, 0.5483122558798641, 0.1921395706012845, 0.20537132886238396, 0.2706556716002524, 0.569723081542179, 0.09350964799523354, 0.06535391905345023, 0.3667374416254461, 0.17144915438257158, 0.3399591026827693, 0.995877429144457, 0.28796715335920453, 0.9058192993979901, 0.07564319856464863, 0.47323041618801653, 0.026295557152479887, 0.21255629300139844, 0.4590184995904565, 0.8000297148246318, 0.9921189905144274, 0.7304834059905261, 0.33953964710235596, 0.25139963650144637, 0.6680269367061555, 0.9773950090166181, 0.9470514496788383, 0.3940027311909944, 0.9236823958344758, 0.5699662405531853, 0.7032512854784727, 0.37479711160995066, 0.22621006844565272, 0.4055767373647541, 0.5145968170836568, 0.22639533993788064, 0.23046735161915421, 0.47792342747561634, 0.15603401884436607, 0.48589987703599036, 0.48357314756140113, 0.24829738563857973, 0.6049205167219043, 0.6740900941658765, 0.2280694846995175, 0.7443997513037175, 0.43451924063265324, 0.4318358472082764, 0.5380909512750804, 0.8085717090871185, 0.6264373892918229, 0.36061261338181794, 0.27291694143787026, 0.16731353173963726, 0.4113857075572014, 0.8639931904617697, 0.5822817138396204, 0.24396768561564386, 0.9976330762729049, 0.5369909584987909, 0.9478172627277672, 0.8864409986417741, 0.2965314146131277, 0.9001297040376812, 0.9950040015392005, 0.4318408907856792, 0.004485894925892353, 0.5251150068361312, 0.5600042589940131, 0.7799006670247763, 0.6507454700767994, 0.8489821890834719, 0.7457535876892507, 0.39706887281499803, 0.47038871329277754, 0.22359582711942494, 0.9516848851926625, 0.42313771205954254, 0.21187997050583363, 0.9973758256528527, 0.11146032763645053, 0.3022855275776237, 0.23857082519680262, 0.676125054480508, 0.6230861158110201, 0.6104083440732211, 0.5335218757390976, 0.45983354770578444, 0.7057850337587297, 0.0006154736038297415, 0.4670198252424598, 0.7023342654574662, 0.16800181986764073, 0.43876418354921043, 0.4361648838967085, 0.09068541810847819, 0.8209163504652679, 0.15090842708013952, 0.7359034838154912, 0.5911543529946357, 0.02183963591232896, 0.954536636127159, 0.2708813063800335, 0.45867800363339484, 0.08186762919649482, 0.8954735768493265, 0.9674916220828891, 0.8566749014426023, 0.5221678470261395, 0.36232126760296524, 0.9954939428716898, 0.8840837499592453, 0.41327380342409015, 0.1003139594104141, 0.1585779869928956, 0.05650356155820191, 0.28176225582137704, 0.7964621789287776, 0.06324795633554459, 0.5383103566709906, 0.31868826365098357, 0.15786083391867578, 0.925402126275003, 0.6726254255045205, 0.8741530594415963, 0.6550363812129945, 0.12398274801671505, 0.6060101522598416, 0.4723797324113548, 0.35220805718563497, 0.8610712634399533, 0.054762401850894094, 0.8316717245616019, 0.4963381707202643, 0.5378038324415684, 0.5096894691232592, 0.6236291392706335, 0.7868464586790651, 0.7054821727797389, 0.4262325905729085, 0.9559978623874485, 0.4978635038714856, 0.7012547124177217, 0.1968180185649544, 0.8135264958254993, 0.8748982155229896, 0.32774305436760187, 0.9523096580523998, 0.941206103656441, 0.4777943722438067, 0.18598875403404236, 0.48943826579488814, 0.904267770703882, 0.391851227497682, 0.5210954090580344, 0.8710822120774537, 0.30931297363713384, 0.47898317757062614, 0.6899410616606474, 0.49627480492927134, 0.4209517645649612, 0.09079349203966558, 0.6103359134867787, 0.6868131768424064, 0.6583237671293318, 0.9154371067415923, 0.801000352948904, 0.08734373399056494, 0.7058769850991666, 0.8801474792417139, 0.871738295070827, 0.42579916794784367, 0.22277942346408963, 0.2813025068026036, 0.5731808338314295, 0.4310620299074799, 0.385338522028178, 0.5639045068528503]\n",
            "\n",
            "Generador 2:\n",
            "Iteraciones: [1, 2, 3, 4, 5, 6, 7, 8, 9, 10, 11, 12, 13, 14, 15, 16, 17, 18, 19, 20, 21, 22, 23, 24, 25, 26, 27, 28, 29, 30, 31, 32, 33, 34, 35, 36, 37, 38, 39, 40, 41, 42, 43, 44, 45, 46, 47, 48, 49, 50, 51, 52, 53, 54, 55, 56, 57, 58, 59, 60, 61, 62, 63, 64, 65, 66, 67, 68, 69, 70, 71, 72, 73, 74, 75, 76, 77, 78, 79, 80, 81, 82, 83, 84, 85, 86, 87, 88, 89, 90, 91, 92, 93, 94, 95, 96, 97, 98, 99, 100, 101, 102, 103, 104, 105, 106, 107, 108, 109, 110, 111, 112, 113, 114, 115, 116, 117, 118, 119, 120, 121, 122, 123, 124, 125, 126, 127, 128, 129, 130, 131, 132, 133, 134, 135, 136, 137, 138, 139, 140, 141, 142, 143, 144, 145, 146, 147, 148, 149, 150, 151, 152, 153, 154, 155, 156, 157, 158, 159, 160, 161, 162, 163, 164, 165, 166, 167, 168, 169, 170, 171, 172, 173, 174, 175, 176, 177, 178, 179, 180, 181, 182, 183, 184, 185, 186, 187, 188, 189, 190, 191, 192, 193, 194, 195, 196, 197, 198, 199, 200, 201, 202, 203, 204, 205, 206, 207, 208, 209, 210, 211, 212, 213, 214, 215, 216, 217, 218, 219, 220, 221, 222, 223, 224, 225, 226, 227, 228, 229, 230, 231, 232, 233, 234, 235, 236, 237, 238, 239, 240, 241, 242, 243, 244, 245, 246, 247, 248, 249, 250, 251, 252, 253, 254, 255, 256, 257, 258, 259, 260, 261, 262, 263, 264, 265, 266, 267, 268, 269, 270, 271, 272, 273, 274, 275, 276, 277, 278, 279, 280, 281, 282, 283, 284, 285, 286, 287, 288, 289, 290, 291, 292, 293, 294, 295, 296, 297, 298, 299, 300, 301, 302, 303, 304, 305, 306, 307, 308, 309, 310, 311, 312, 313, 314, 315, 316, 317, 318, 319, 320, 321, 322, 323, 324, 325, 326, 327, 328, 329, 330, 331, 332, 333, 334, 335, 336, 337, 338, 339, 340, 341, 342, 343, 344, 345, 346, 347, 348, 349, 350, 351, 352, 353, 354, 355, 356, 357, 358, 359, 360, 361, 362, 363, 364, 365, 366, 367, 368, 369, 370, 371, 372, 373, 374, 375, 376, 377, 378, 379, 380, 381, 382, 383, 384, 385, 386, 387, 388, 389, 390, 391, 392, 393, 394, 395, 396, 397, 398, 399, 400, 401, 402, 403, 404, 405, 406, 407, 408, 409, 410, 411, 412, 413, 414, 415, 416, 417, 418, 419, 420, 421, 422, 423, 424, 425, 426, 427, 428, 429, 430, 431, 432, 433, 434, 435, 436, 437, 438, 439, 440, 441, 442, 443, 444, 445, 446, 447, 448, 449, 450, 451, 452, 453, 454, 455, 456, 457, 458, 459, 460, 461, 462, 463, 464, 465, 466, 467, 468, 469, 470, 471, 472, 473, 474, 475, 476, 477, 478, 479, 480, 481, 482, 483, 484, 485, 486, 487, 488, 489, 490, 491, 492, 493, 494, 495, 496, 497, 498, 499, 500, 501, 502, 503, 504, 505, 506, 507, 508, 509, 510, 511, 512, 513, 514, 515, 516, 517, 518, 519, 520, 521, 522, 523, 524, 525, 526, 527, 528, 529, 530, 531, 532, 533, 534, 535, 536, 537, 538, 539, 540, 541, 542, 543, 544, 545, 546, 547, 548, 549, 550, 551, 552, 553, 554, 555, 556, 557, 558, 559, 560, 561, 562, 563, 564, 565, 566, 567, 568, 569, 570, 571, 572, 573, 574, 575, 576, 577, 578, 579, 580, 581, 582, 583, 584, 585, 586, 587, 588, 589, 590, 591, 592, 593, 594, 595, 596, 597, 598, 599, 600, 601, 602, 603, 604, 605, 606, 607, 608, 609, 610, 611, 612, 613, 614, 615, 616, 617, 618, 619, 620, 621, 622, 623, 624, 625, 626, 627, 628, 629, 630, 631, 632, 633, 634, 635, 636, 637, 638, 639, 640, 641, 642, 643, 644, 645, 646, 647, 648, 649, 650, 651, 652, 653, 654, 655, 656, 657, 658, 659, 660, 661, 662, 663, 664, 665, 666, 667, 668, 669, 670, 671, 672, 673, 674, 675, 676, 677, 678, 679, 680, 681, 682, 683, 684, 685, 686, 687, 688, 689, 690, 691, 692, 693, 694, 695, 696, 697, 698, 699, 700, 701, 702, 703, 704, 705, 706, 707, 708, 709, 710, 711, 712, 713, 714, 715, 716, 717, 718, 719, 720, 721, 722, 723, 724, 725, 726, 727, 728, 729, 730, 731, 732, 733, 734, 735, 736, 737, 738, 739, 740, 741, 742, 743, 744, 745, 746, 747, 748, 749, 750, 751, 752, 753, 754, 755, 756, 757, 758, 759, 760, 761, 762, 763, 764, 765, 766, 767, 768, 769, 770, 771, 772, 773, 774, 775, 776, 777, 778, 779, 780, 781, 782, 783, 784, 785, 786, 787, 788, 789, 790, 791, 792, 793, 794, 795, 796, 797, 798, 799, 800, 801, 802, 803, 804, 805, 806, 807, 808, 809, 810, 811, 812, 813, 814, 815, 816, 817, 818, 819, 820, 821, 822, 823, 824, 825, 826, 827, 828, 829, 830, 831, 832, 833, 834, 835, 836, 837, 838, 839, 840, 841, 842, 843, 844, 845, 846, 847, 848, 849, 850, 851, 852, 853, 854, 855, 856, 857, 858, 859, 860, 861, 862, 863, 864, 865, 866, 867, 868, 869, 870, 871, 872, 873, 874, 875, 876, 877, 878, 879, 880, 881, 882, 883, 884, 885, 886, 887, 888, 889, 890, 891, 892, 893, 894, 895, 896, 897, 898, 899, 900, 901, 902, 903, 904, 905, 906, 907, 908, 909, 910, 911, 912, 913, 914, 915, 916, 917, 918, 919, 920, 921, 922, 923, 924, 925, 926, 927, 928, 929, 930, 931, 932, 933, 934, 935, 936, 937, 938, 939, 940, 941, 942, 943, 944, 945, 946, 947, 948, 949, 950, 951, 952, 953, 954, 955, 956, 957, 958, 959, 960, 961, 962, 963, 964, 965, 966, 967, 968, 969, 970, 971, 972, 973, 974, 975, 976, 977, 978, 979, 980, 981, 982, 983, 984, 985, 986, 987, 988, 989, 990, 991, 992, 993, 994, 995, 996, 997, 998, 999, 1000]\n",
            "Valores generados: [84606477, 2927364104, 1287031751, 2211731066, 4204131217, 2118195132, 3868069867, 435184718, 557391701, 3189663920, 987784271, 1837270370, 3553019225, 1977183972, 2934729971, 4120137142, 1655925149, 200597080, 520965591, 3072233802, 3877228577, 2498013964, 2623433467, 1046307870, 1677655269, 2608990464, 3533662303, 2741246514, 4191564777, 1455385652, 2052598275, 2918270854, 809826605, 2157742248, 2067583975, 1820508186, 2586251441, 1113215580, 2731657739, 3534329838, 1473412725, 3924753744, 323989615, 849224450, 1000048249, 1555692932, 3469175571, 2786325846, 2493033661, 2071463672, 42343927, 3125666538, 3819353409, 3950448044, 4139330843, 4084334526, 4272727045, 4178199968, 3327278207, 4213022674, 1713356041, 2268996308, 1126903843, 2386122534, 3502736461, 1087134024, 2859084807, 2114779578, 834780625, 2119163132, 220566571, 1486068622, 3167120789, 2511921648, 2437418127, 2349830306, 2896943001, 2264980516, 4004804915, 434007286, 3492446173, 975077272, 3433692695, 747439242, 551627361, 3258564684, 3815243579, 623602526, 3902331685, 1512034880, 101851295, 4091606386, 952686121, 234301812, 2027177539, 3485480646, 3092946797, 1177778664, 927372327, 2715485018, 195951345, 2815014812, 252800587, 3080089390, 1524427957, 4255389328, 3000072367, 2420035138, 3124738233, 525732548, 691771219, 3655054486, 2033246973, 152062008, 1015082551, 4047762986, 2601594753, 2564080364, 3455246683, 2037491454, 4270563909, 2766843616, 837227711, 3725990674, 4145643337, 1603436564, 4158352483, 3580749414, 1556499085, 1006234248, 3269069895, 894754042, 1446234129, 3362775612, 371021931, 2946110158, 1625160661, 836279088, 972289231, 1234426850, 1537157593, 1684113764, 2632238451, 2733886518, 2540951069, 4252328152, 1427304023, 1608169418, 847168673, 2196772236, 2783040379, 1244443294, 1095563621, 2475875200, 2916686047, 4263841970, 2321135721, 79177396, 2697503363, 908748294, 3620898221, 558345000, 841782375, 165840538, 597370161, 2112511196, 332485259, 3028715118, 563190517, 377384912, 2897707247, 3061234050, 3960613625, 2831898628, 1815610259, 1712239574, 3602602301, 2155202936, 1567096439, 1136216426, 2876369345, 674478124, 3736917403, 2772733502, 3584352389, 3024115744, 2716871935, 2356532818, 1070694793, 2584747348, 1478748323, 3168646566, 3880210637, 1229241288, 2923834503, 1693188154, 1781273169, 4192282492, 2109037739, 3997420046, 331336213, 1673368688, 1428430095, 3377424162, 719371289, 1396405924, 3183301043, 1209297782, 2261740637, 1329168920, 3767017111, 3695684362, 2922553057, 3293031116, 1879828411, 1285634526, 73095077, 1763386560, 4197732639, 3044043762, 3368606377, 3494011892, 108347075, 1752159558, 3974933485, 1528372328, 2754532519, 4292430298, 70160241, 33309212, 1297184459, 951705006, 3526396213, 2780694800, 1094830383, 1753605314, 995286329, 3730433348, 3153899475, 2716660502, 2608336765, 2062060216, 2910539447, 3706576042, 3339248641, 651423084, 3579251163, 3056252286, 976772805, 3897246048, 1722647871, 2575094162, 981976009, 1811348116, 2554635491, 1808319718, 4002060045, 1374473480, 3303967943, 135422842, 2951388305, 4024675516, 2990315, 600883534, 464246869, 1017630128, 1125680463, 1854026338, 2763034201, 3637421028, 2508070387, 8407734, 2893890205, 1756029784, 3611922135, 1830018634, 1715255585, 3011543052, 237386747, 197722398, 134477285, 1006153216, 1533266271, 1292044082, 240532713, 1171644724, 4263123715, 768640134, 2515079725, 2095566248, 93148391, 520047898, 262683057, 2973722460, 2547112715, 4084233454, 3539580789, 1554178640, 4038087023, 2846642178, 1380044665, 3846288004, 2093587475, 615936598, 4121363901, 3517484024, 3036339959, 673296362, 3759545921, 1643471532, 2650897947, 727981246, 579214597, 1112238752, 274668927, 3630894290, 561792521, 1250367444, 746430755, 1232016422, 818945357, 2133990984, 2668834055, 1510475450, 2846844625, 3350688252, 2579899691, 2676029582, 4276233877, 232212208, 2752589199, 3698081186, 2471403673, 3126530340, 2825333299, 58157558, 1455249629, 3272180888, 3784785687, 494883210, 1826427745, 3185218892, 2356203579, 2799962206, 1653003301, 2909501248, 2175238559, 941417074, 3040993065, 2058526324, 469186371, 2374792134, 2970073197, 1341374184, 243799335, 1117032538, 3897041905, 1223937180, 261259083, 3555347502, 3391956405, 745339792, 2067995055, 3173645122, 455016889, 583188420, 1390331987, 3316330902, 1401437181, 2650131768, 1009168183, 3499410218, 685348993, 3872921580, 1694249563, 3291530238, 3301841733, 58774496, 1866790335, 1551927314, 1861158985, 3942675732, 3373194595, 4245726054, 2891441037, 978628488, 351538503, 3591170554, 431649041, 3734796092, 2260658539, 4036259790, 2208478421, 1754005552, 1481512399, 4132276450, 16446169, 4246781540, 3132651123, 3359230262, 332377885, 395666904, 3887148887, 952763594, 341028257, 2425744012, 925607035, 2100449182, 1780740709, 2662563968, 1564441055, 704511410, 1472971113, 3289947060, 877433731, 3471024902, 1552457389, 3715952680, 3076461927, 2245596058, 1884180017, 3327750620, 282289035, 157770606, 2651509749, 1180456144, 3778683375, 641656450, 3224007673, 1008536836, 578565267, 2617979094, 1666953789, 957369976, 1262403447, 3246855786, 328422081, 45878572, 2525439643, 2144381758, 2538625413, 2905308448, 2476674559, 2029863762, 3709864585, 1117983316, 1647860131, 1844277926, 2673994189, 747929800, 1053896071, 929107258, 38517585, 3520248956, 1129835947, 3863684878, 2955772693, 503708016, 2148482575, 3748008994, 938837273, 3865029540, 3501327027, 101148790, 2985575773, 1603176216, 299327383, 1244919818, 4007692257, 418545612, 2593568955, 770954974, 3038466213, 823183808, 510374431, 367417586, 3493061545, 3074939124, 1532637123, 2031489606, 4138452205, 1858298216, 944919975, 1141692122, 3388651633, 1722832668, 936675275, 52935342, 1959969333, 464580112, 1658153519, 2821394882, 2879661625, 378575428, 266461395, 4279660566, 325150845, 1010307000, 713232311, 641247658, 1384336641, 1122058860, 3739376347, 2642662014, 1347213253, 9135712, 3450693183, 3240181394, 1716473033, 2259611540, 742004195, 3276112358, 2284728333, 1060213256, 1961528775, 2034528378, 2778940817, 2124038588, 2345742827, 2414157390, 3401748821, 1065693872, 2073339471, 4210417506, 3263059801, 4216838372, 781438707, 3022014390, 1063984029, 3560237144, 3360280535, 486353738, 3468927521, 2217760012, 2196901115, 2556993054, 430763749, 3317912320, 896281183, 789967922, 951731689, 696276532, 3848276995, 1399046534, 498150189, 2366050984, 161600999, 409983514, 1468883633, 2805496924, 1624632331, 1886081518, 3032805493, 1571473232, 2153050735, 1177451778, 2278299769, 3613222788, 2135936275, 2248994646, 2446941885, 2158825720, 1647550455, 1776909546, 3622405953, 1955051436, 709742363, 2626304446, 3858994693, 4276129696, 2913992319, 137132498, 1153224457, 744754388, 2605978147, 1683542310, 620541517, 2607539016, 1333800455, 3606516666, 2248216529, 36898556, 1550497323, 1017271694, 1503780757, 508144624, 3944631951, 3963415202, 1792371097, 21579300, 1486740275, 163866358, 175387101, 4006119832, 3007873047, 3160776330, 3325885537, 1066363468, 4236091707, 3687884126, 2920860965, 4262140992, 1384178335, 3905736562, 3953059881, 805442420, 1721641027, 1695330502, 2950222189, 25691112, 3817707047, 3728874842, 3141946609, 1160896924, 2820116555, 1081223470, 69295797, 4253671568, 4193827503, 1133062210, 1055017657, 3821237444, 352713043, 137277078, 1292080381, 531583544, 3130028087, 937005098, 3590717825, 2767154412, 2768864091, 1008984318, 2394199109, 3916101856, 65459903, 1633613074, 4071133513, 3909249556, 1673940579, 4167524454, 1947040909, 2860741768, 2798784071, 3417896698, 1705318929, 3118271548, 4049893995, 2076363982, 587951573, 1267950896, 2934716111, 2524657122, 993704921, 4252234596, 319825779, 2117322294, 2706343965, 1753836248, 3138613335, 1940738506, 663525025, 4165975948, 1400468859, 1466690718, 3365858149, 3139970432, 1709824735, 4132104882, 2200029801, 537727156, 3008660611, 4115718150, 3412244397, 3582342440, 3193280103, 2965610650, 3613751089, 1037862620, 1775858827, 2726051950, 1227361525, 747518416, 3489710831, 595268482, 4213619961, 3775054340, 3041158547, 2629545430, 4078963517, 1920914296, 1004109943, 2068374378, 3206069185, 559440428, 3142940571, 2073086014, 3231699589, 1097507360, 3767660287, 536391762, 710054793, 2982807380, 2043726499, 1722888102, 3013640909, 364398024, 2468359815, 315234874, 1187996753, 1121472892, 3338567339, 478577678, 759118869, 2560777840, 3879624463, 485540130, 2112769561, 890757284, 1646965683, 3366872438, 3527220829, 985107480, 132817047, 3457434890, 2230481121, 2612090060, 338004411, 2860151774, 4286532005, 509243072, 2682721055, 1255163378, 3649236137, 2397130228, 3754107075, 2339393350, 3465469421, 1380034152, 3527005863, 3946079194, 3458916721, 3463998492, 1113299147, 97097646, 2853763893, 1542968080, 1118636847, 2839822018, 651783993, 3025882948, 2219512275, 2599677206, 1919861117, 307991736, 776917175, 1601664682, 1164031489, 1996658540, 426879963, 2584801150, 839209157, 3357510496, 2482063167, 3610880914, 3858421193, 3153781908, 296978147, 3598073574, 1643497741, 3326760712, 1823116999, 2808774010, 1807740561, 2053428924, 2574828267, 774732622, 3195882069, 381065136, 4099196751, 3806170210, 3174047833, 762645988, 2318237683, 3765716150, 2877093021, 2660429144, 34476247, 2530900042, 2964228897, 1458842124, 180477435, 3023846174, 687466469, 2296510464, 1891142495, 429711666, 151146217, 1371458356, 1076493571, 4004183686, 1469924397, 16406440, 2541377255, 685008666, 30837681, 1950716252, 232652043, 429534958, 2369005941, 1023847504, 3527250799, 3626281474, 1815765369, 2198674564, 3864657427, 2585226326, 4180654013, 3632633336, 439378167, 1336232426, 1528885313, 1932397740, 2879266843, 384063166, 3643084549, 2127148192, 2923749247, 1516365522, 1608603657, 2094334420, 2679014179, 2935393830, 1028476749, 3849955400, 3417386759, 3302629562, 1454815441, 2109905916, 1695762219, 4294423182, 1560647829, 386928880, 1987014543, 2340525986, 3275764377, 2882239268, 257461299, 4240794614, 2068777693, 224104088, 1371390231, 3644844938, 3170952545, 2539142988, 1133408827, 2482061918, 1531889189, 2617164096, 2292073375, 3589323890, 1809838377, 2112194676, 1758009667, 641789382, 1154345581, 2867874024, 3327596327, 1155770970, 346584561, 3968071324, 3902841163, 3442345518, 2562299829, 3237660048, 1056070575, 4082914626, 3045692345, 2992122308, 2142317139, 1902521238, 4121095677, 3728529208, 3351130423, 4145175850, 848718465, 588956140, 2652558427, 2974481918, 3963555141, 2796101088, 4291606463, 3165741586, 306584137, 2845335316, 3623993187, 2540838246, 1139217805, 3699784072, 2289307463, 3864593402, 3388195601, 2855379260, 1712196459, 556083662, 3474466517, 720292400, 1305368527, 4196197090, 2589885657, 3042650212, 3052132467, 2497823542, 3488833821, 1079078872, 3745100119, 3766787786, 4230578081, 169710732, 181094011, 2832828830, 3971867749, 955304576, 3621272543, 856414130, 2623263593, 1754629556, 769684867, 2037521670, 3026243757, 1499691560, 1460672359, 1520577946, 3907035185, 879991772, 786662795, 1338318190, 3001632245, 420749008, 2299225071, 2116763778, 755435001, 3883693828, 881890963, 941632214, 369648701, 2093045880, 1060651383, 1090433130, 1040327873, 3557340972, 1562888347, 1753539902, 3784526725, 3237857056, 2563297279, 1365777746, 3077119113, 931462228, 2934782883, 1999170726, 3020102605, 1420823240, 3140693895, 3341231930, 3350662481, 2633098876, 413732779, 1626726670, 452261141, 596820848, 2595323919, 1374645794, 2362119961, 2405701028, 2183619763, 1611227766, 2007627613, 817139992, 3535921559, 937988618, 6838753, 2625907148, 3971504827, 2452951262, 1938244261, 2163741632, 2393273375, 607007474, 1958081961, 2802762484, 2746225091, 1870564422, 76936941, 1435757416, 2179291047, 3310350554, 2696874609, 2304016668, 2095491531, 278885550]\n",
            "Números pseudo-aleatorios: [0.019698980497196317, 0.6815800685435534, 0.29966043098829687, 0.5149587676860392, 0.9788505772594362, 0.49318073596805334, 0.9006051968317479, 0.10132433800026774, 0.12977786851115525, 0.7426515035331249, 0.2299864476080984, 0.4277728428132832, 0.827251753071323, 0.46034901682287455, 0.6832950680982322, 0.9592941827140749, 0.38555011828429997, 0.04670514725148678, 0.12129675387404859, 0.7153101735748351, 0.902737625176087, 0.5816141990944743, 0.6108157027047127, 0.24361253483220935, 0.3906095561105758, 0.607452929019928, 0.8227448684629053, 0.6382461902685463, 0.9759247249457985, 0.3388583781197667, 0.4779077775310725, 0.6794628812931478, 0.18855244969017804, 0.5023885164409876, 0.4813969077076763, 0.4238700927235186, 0.6021585876587778, 0.2591907000169158, 0.6360136296134442, 0.8229002910666168, 0.343055633129552, 0.9138029403984547, 0.07543471059761941, 0.19772547530010343, 0.23284187749959528, 0.36221298668533564, 0.8077303811442107, 0.6487420401535928, 0.580454631941393, 0.4823002200573683, 0.009858963778242469, 0.7277509518899024, 0.8892625125590712, 0.9197853608056903, 0.9637630644720048, 0.9509582365863025, 0.9948217880446464, 0.9728129878640175, 0.7746923265513033, 0.980920780915767, 0.39892178983427584, 0.5282918708398938, 0.26237774710170925, 0.5555624454282224, 0.8155443847645074, 0.25311811454594135, 0.6656825558748096, 0.4923854903317988, 0.19436251022852957, 0.4934061160311103, 0.051354656694456935, 0.3460023137740791, 0.7374027718324214, 0.5848523341119289, 0.5675056313630193, 0.5471125026233494, 0.6744971035514027, 0.5273568714037538, 0.9324413060676306, 0.10105019574984908, 0.8131484903860837, 0.2270278688520193, 0.7994688802864403, 0.17402675980702043, 0.1284357535187155, 0.7586937127634883, 0.8883056181948632, 0.14519377751275897, 0.9085823979694396, 0.3520480543375015, 0.023714102571830153, 0.9526513484306633, 0.22181452275253832, 0.054552641697227955, 0.4719890512060374, 0.8115267022512853, 0.7201327935326844, 0.27422296442091465, 0.21592069580219686, 0.6322481245733798, 0.04562347778119147, 0.6554217105731368, 0.05885972338728607, 0.7171391951851547, 0.3549335424322635, 0.9907850362360477, 0.6985087802167982, 0.5634583388455212, 0.7275348140392452, 0.12240664754062891, 0.161065538180992, 0.8510086885653436, 0.4734022014308721, 0.03540469519793987, 0.23634232371114194, 0.9424432613886893, 0.60573098086752, 0.5969964815303683, 0.804487309185788, 0.4743904466740787, 0.9943181436974555, 0.6442059800028801, 0.19493226683698595, 0.8675248068757355, 0.965232806513086, 0.3733291672542691, 0.968191885156557, 0.8337081908248365, 0.36240068380720913, 0.23428216762840748, 0.761139647802338, 0.2083261595107615, 0.3367276231292635, 0.7829572102054954, 0.0863852750044316, 0.6859447243623435, 0.3783872027415782, 0.19471139833331108, 0.22637872747145593, 0.2874123980291188, 0.35789739177562296, 0.3921132916584611, 0.6128657727967948, 0.6365325576625764, 0.5916112728882581, 0.99007230065763, 0.33232011436484754, 0.3744311206974089, 0.1972468274179846, 0.5114758936688304, 0.6479770827572793, 0.2897445331327617, 0.2550807830411941, 0.5764596164226532, 0.6790938896592706, 0.9927530703134835, 0.5404315239284188, 0.018434924073517323, 0.6280614442657679, 0.21158445021137595, 0.8430560634005815, 0.12999982573091984, 0.19599273218773305, 0.038612759206444025, 0.13908607908524573, 0.49185734149068594, 0.07741275685839355, 0.7051776903681457, 0.1311280105728656, 0.08786677196621895, 0.6746750434394926, 0.7127490942366421, 0.9221522195730358, 0.6593527803197503, 0.42272970522753894, 0.39866184210404754, 0.8387962125707418, 0.5017972867935896, 0.36486807256005704, 0.26454600179567933, 0.6697069259826094, 0.1570391757413745, 0.8700688842218369, 0.645577325951308, 0.8345470738131553, 0.7041068151593208, 0.6325710413511842, 0.5486730528064072, 0.2492905578110367, 0.6018083887174726, 0.3442979238461703, 0.7377580194734037, 0.9034319401253015, 0.28620504029095173, 0.680758269270882, 0.39422608772292733, 0.4147349784616381, 0.9760918309912086, 0.4910486142616719, 0.9307218822650611, 0.07714522373862565, 0.38961150869727135, 0.33258229843340814, 0.7863678415305912, 0.16749168024398386, 0.32512609008699656, 0.7411700307857245, 0.2815615809522569, 0.5266025282908231, 0.30947125516831875, 0.8770770186092705, 0.8604685687460005, 0.6804599093738943, 0.7667185543105006, 0.437681658891961, 0.2993351141922176, 0.017018773825839162, 0.410570427775383, 0.9773607922252268, 0.7087466684170067, 0.7843147909734398, 0.8135130377486348, 0.025226519210264087, 0.4079564376734197, 0.9254863217938691, 0.35585191287100315, 0.6413395793642849, 0.9994093091227114, 0.016335454070940614, 0.007755405269563198, 0.30202429252676666, 0.22158608911558986, 0.8210531000513583, 0.6474309600889683, 0.2549100627657026, 0.40829305397346616, 0.23173315660096705, 0.8685591975226998, 0.7343244447838515, 0.6325218132697046, 0.6073007278610021, 0.48011080734431744, 0.6776627728249878, 0.8630044856108725, 0.7774794104043394, 0.15167125593870878, 0.8333593520801514, 0.7115891869179904, 0.2274226408917457, 0.9073983058333397, 0.4010852125938982, 0.599560831207782, 0.22863410622812808, 0.4217373477295041, 0.5947974256705493, 0.421032243873924, 0.9318022162187845, 0.3200195450335741, 0.7692649827804416, 0.03153058746829629, 0.6871736387256533, 0.9370677908882499, 0.0006962369661778212, 0.13990409998223186, 0.1080908973235637, 0.23693547770380974, 0.262092906748876, 0.43167414562776685, 0.6433190314564854, 0.8469030791893601, 0.5839556425344199, 0.001957578118890524, 0.6737863190937787, 0.40885754488408566, 0.840966155519709, 0.42608441645279527, 0.3993640618864447, 0.701179507188499, 0.055270909098908305, 0.046035833191126585, 0.03131043282337487, 0.23426330089569092, 0.3569913727696985, 0.3008274552412331, 0.056003386387601495, 0.27279479522258043, 0.9925858385395259, 0.1789629771374166, 0.5855876312125474, 0.4879120383411646, 0.021687799831852317, 0.12108308682218194, 0.061160665238276124, 0.6923737144097686, 0.5930458928924054, 0.9509347039274871, 0.8241228733677417, 0.36186041310429573, 0.9401904006954283, 0.6627855305559933, 0.3213166876230389, 0.8955337116494775, 0.4874513193499297, 0.14340891456231475, 0.959579809801653, 0.8189780693501234, 0.7069529870059341, 0.1567640253342688, 0.8753374966327101, 0.3826505346223712, 0.6172102752607316, 0.169496342074126, 0.1348589074332267, 0.2589632645249367, 0.06395134306512773, 0.84538345457986, 0.13080251426436007, 0.2911238567903638, 0.17379195312969387, 0.28685117652639747, 0.19067557458765805, 0.4968584943562746, 0.6213863508310169, 0.35168497124686837, 0.6628326664213091, 0.7801429023966193, 0.6006797056179494, 0.6230616900138557, 0.9956382859963924, 0.054066117852926254, 0.6408871149178594, 0.8610266228206456, 0.5754185079131275, 0.7279520714655519, 0.6578241705428809, 0.013540861662477255, 0.338826707797125, 0.7618639823049307, 0.8812140875961632, 0.11522397631779313, 0.42524834745563567, 0.7416165648028255, 0.5485963958781213, 0.6519170026294887, 0.3848698225338012, 0.677421048283577, 0.5064621937926859, 0.21919074328616261, 0.7080363726709038, 0.4792880089953542, 0.10924096475355327, 0.5529243811033666, 0.6915240541566163, 0.31231301464140415, 0.056763956090435386, 0.2600794048048556, 0.9073507750872523, 0.2849700814113021, 0.06082912045530975, 0.8277938473038375, 0.7897513930220157, 0.1735379435122013, 0.4814926197286695, 0.7389218364842236, 0.10594187513925135, 0.13578413520008326, 0.3237118914257735, 0.772143458481878, 0.3262975208926946, 0.6170318853110075, 0.2349652776028961, 0.8147699334658682, 0.1595702471677214, 0.9017348242923617, 0.39447321626357734, 0.7663691039197147, 0.7687699359375983, 0.013684503734111786, 0.4346459952648729, 0.36133623542264104, 0.4333348444197327, 0.9179757284000516, 0.7853830687236041, 0.988535129930824, 0.6732160777319223, 0.22785470075905323, 0.08184893592260778, 0.8361345515586436, 0.10050112404860556, 0.8695749780163169, 0.5263505827169865, 0.9397649648599327, 0.5142014522571117, 0.4083862416446209, 0.3449414854403585, 0.9621205856092274, 0.0038291721139103174, 0.9887808794155717, 0.7293771773111075, 0.7821317440830171, 0.07738775690086186, 0.09212337993085384, 0.9050473773386329, 0.22183256084099412, 0.07940182858146727, 0.56478753965348, 0.21550968172959983, 0.48904893500730395, 0.41461100545711815, 0.6199264824390411, 0.36424981779418886, 0.16403184505179524, 0.34295281232334673, 0.766000491566956, 0.2042934603523463, 0.8081609620712698, 0.36145965312607586, 0.8651876542717218, 0.7162946106400341, 0.5228435755707324, 0.438694846117869, 0.7748023187741637, 0.06572553771547973, 0.036733831744641066, 0.6173527215141803, 0.274846363812685, 0.8797932823654264, 0.14939728425815701, 0.7506477816496044, 0.23481828067451715, 0.13470772351138294, 0.6095457575283945, 0.3881179236341268, 0.22290506772696972, 0.2939262071158737, 0.7559675225056708, 0.07646672450937331, 0.0106819374486804, 0.5879997375886887, 0.4992777849547565, 0.5910697889048606, 0.676444835960865, 0.5766457316931337, 0.47261448623612523, 0.8637701591942459, 0.2603007750585675, 0.3836723349522799, 0.42940441658720374, 0.6225877881515771, 0.17414097674190998, 0.24537930055521429, 0.2163246409036219, 0.008968074107542634, 0.8196218302473426, 0.26306043076328933, 0.8995842370204628, 0.6881944586057216, 0.11727866157889366, 0.5002325808163732, 0.8726513464935124, 0.21859008655883372, 0.8998973155394197, 0.8152162253390998, 0.023550537880510092, 0.6951335289049894, 0.3732685502618551, 0.06969258724711835, 0.28985548252239823, 0.9331135677639395, 0.09745024424046278, 0.603862329153344, 0.17950194282457232, 0.7074480440933257, 0.19166241586208344, 0.11883080727420747, 0.085546073038131, 0.8132917678449303, 0.715940055437386, 0.35684488783590496, 0.472993032541126, 0.963558490620926, 0.43266876973211765, 0.2200063259806484, 0.26582091161981225, 0.7889819408301264, 0.4011282389983535, 0.21808670717291534, 0.012324969749897718, 0.45634092134423554, 0.10816848650574684, 0.38606895110569894, 0.6569071863777936, 0.6704734696540982, 0.08814396057277918, 0.062040378106758, 0.996436124201864, 0.0757050805259496, 0.23523042909801006, 0.16606233804486692, 0.14930210495367646, 0.32231599115766585, 0.2612496865913272, 0.8706414017360657, 0.6152926976792514, 0.3136725288350135, 0.0021270737051963806, 0.8034271148499101, 0.7544135195203125, 0.3996475210878998, 0.5261068092659116, 0.1727613143157214, 0.7627793489955366, 0.5319547683466226, 0.24685013480484486, 0.4567040072288364, 0.47370055178180337, 0.6470225790981203, 0.4945412715896964, 0.5461608122568578, 0.562089818995446, 0.7920313675422221, 0.24812619015574455, 0.48273696354590356, 0.9803142179735005, 0.7597403137478977, 0.9818091923370957, 0.18194287712685764, 0.7036175555549562, 0.2477280863095075, 0.8289323057979345, 0.7823762798216194, 0.11323805386200547, 0.8076726275030524, 0.5163624910637736, 0.5115059006493539, 0.5953463385812938, 0.10029500094242394, 0.7725116610527039, 0.2086817247327417, 0.18392873974516988, 0.22159230173565447, 0.16211451310664415, 0.8959968097042292, 0.3257409050129354, 0.1159846291411668, 0.5508891735225916, 0.03762566461227834, 0.09545672545209527, 0.3420011217240244, 0.6532056545838714, 0.3782641913276166, 0.4391375738196075, 0.7061300550121814, 0.3658871240913868, 0.5012961884494871, 0.2741468553431332, 0.5304580016527325, 0.8412689873948693, 0.4973114177118987, 0.5236348710022867, 0.569723054068163, 0.5026407819241285, 0.38360023288987577, 0.41371899330988526, 0.843407109612599, 0.4551958842203021, 0.16524977120570838, 0.6114841545931995, 0.898492218228057, 0.9956140294671059, 0.6784667072352022, 0.03192864777520299, 0.2685059926006943, 0.17340164352208376, 0.6067515693139285, 0.3919802396558225, 0.14448108081705868, 0.6071149874478579, 0.3105496184434742, 0.839707596693188, 0.5234537015203387, 0.008591114543378353, 0.3610032896976918, 0.2368520232848823, 0.3501262415666133, 0.11831163987517357, 0.9184311961289495, 0.9228045125491917, 0.4173189161811024, 0.005024322308599949, 0.34615869517438114, 0.03815310960635543, 0.04083549161441624, 0.9327474590390921, 0.700325017562136, 0.7359255873598158, 0.7743680702988058, 0.2482820926234126, 0.9862919587176293, 0.8586524347774684, 0.6800659385044128, 0.9923570305109024, 0.3222791326697916, 0.9093751576729119, 0.9203934764955193, 0.1875316770747304, 0.40085078845731914, 0.3947248919866979, 0.6869021311867982, 0.005981678143143654, 0.8888791890349239, 0.8681963295675814, 0.731541451299563, 0.2702923780307174, 0.6566095526795834, 0.2517419564537704, 0.016134185018017888, 0.9903850890696049, 0.9764515568967909, 0.263811603654176, 0.24564044014550745, 0.8897011736407876, 0.082122404826805, 0.031962310429662466, 0.3008359067607671, 0.12376893870532513, 0.7287664541509002, 0.2181635000742972, 0.8360291423741728, 0.6442783428356051, 0.6446764084976166, 0.23492246819660068, 0.5574429195839912, 0.9117885157465935, 0.015241071349009871, 0.38035518350079656, 0.9478846362326294, 0.9101930903270841, 0.3897446624469012, 0.9703274010680616, 0.4533307880628854, 0.666068347170949, 0.6516426966991276, 0.7957910881377757, 0.3970505038741976, 0.7260291716083884, 0.9429394255857915, 0.4834411623887718, 0.13689314317889512, 0.2952178232371807, 0.6832918410655111, 0.5878175427205861, 0.23136495635844767, 0.9900505179539323, 0.07446524198167026, 0.4929775125347078, 0.6301198073197156, 0.4083468224853277, 0.7307653629686683, 0.4518633955158293, 0.15448895865119994, 0.9699668614193797, 0.3260720658581704, 0.3414905439130962, 0.7836749192792922, 0.7310813367366791, 0.39809959358535707, 0.962080639321357, 0.5122343546245247, 0.12519935984164476, 0.7005083865951747, 0.9582653059624135, 0.7944750592578202, 0.8340790960937738, 0.7434934617485851, 0.6904850364662707, 0.8413919920567423, 0.2416462218388915, 0.4134743537288159, 0.6347084301523864, 0.285767373861745, 0.17404519394040108, 0.8125116189476103, 0.1385967438109219, 0.981059847632423, 0.878948331810534, 0.7080749019514769, 0.6122387549839914, 0.9497077011037618, 0.44724771194159985, 0.23378756432794034, 0.48158093774691224, 0.7464711519423872, 0.1302548749372363, 0.7317728761117905, 0.482677950989455, 0.7524386954028159, 0.2555333450436592, 0.8772267696913332, 0.12488843919709325, 0.16532251448370516, 0.6944889621809125, 0.47584215621463954, 0.4011411457322538, 0.7016679525841027, 0.08484302647411823, 0.5747098044957966, 0.07339633861556649, 0.2766020486596972, 0.2611132552847266, 0.7773207824211568, 0.11142754880711436, 0.17674613487906754, 0.596227552741766, 0.9032954608555883, 0.11304862098768353, 0.49191749677993357, 0.20739559177309275, 0.383464080048725, 0.7839110768400133, 0.8212450959254056, 0.2293632086366415, 0.030923878541216254, 0.8049967908300459, 0.5193243550602347, 0.6081746099516749, 0.07869778457097709, 0.6659309784881771, 0.9980360057670623, 0.11856739223003387, 0.6246196699794382, 0.29224049719050527, 0.8496539986226708, 0.5581253739073873, 0.8740711666177958, 0.5446824594400823, 0.8068674758542329, 0.32131423987448215, 0.8211950452532619, 0.9187681586481631, 0.8053418064955622, 0.8065249985083938, 0.259210156975314, 0.02260730741545558, 0.6644436840433627, 0.3592502512037754, 0.2604529371019453, 0.6611975883133709, 0.15175528661347926, 0.7045182744041085, 0.5167704715859145, 0.6052845171652734, 0.4470024995971471, 0.07170991413295269, 0.18089012592099607, 0.3729166188277304, 0.27102220081724226, 0.4648832930251956, 0.09939073654823005, 0.6018209154717624, 0.19539360818453133, 0.7817313298583031, 0.5779003647621721, 0.8407237273640931, 0.8983586898539215, 0.734297071583569, 0.06914561311714351, 0.8377417861483991, 0.3826566368807107, 0.7745718378573656, 0.4244775043334812, 0.6539686606265604, 0.4208973983768374, 0.47810117807239294, 0.5994989227037877, 0.18038149503991008, 0.7440992791671306, 0.08872364088892937, 0.9544186179991812, 0.8861930598504841, 0.7390155999455601, 0.17756735626608133, 0.5397567718755454, 0.8767741150222719, 0.6698754199314862, 0.6194294299930334, 0.008027126779779792, 0.5892710858024657, 0.69016332202591, 0.3396631507202983, 0.04202067735604942, 0.7040440510027111, 0.160063260467723, 0.5346980094909668, 0.4403159243520349, 0.10005004378035665, 0.03519147098995745, 0.3193175317719579, 0.2506406910251826, 0.9322966649197042, 0.3422434434760362, 0.003819921985268593, 0.5917105020489544, 0.1594910086132586, 0.007179957116022706, 0.45418652053922415, 0.054168524919077754, 0.10000890074297786, 0.5515771780628711, 0.23838307335972786, 0.8212520738597959, 0.8443094496615231, 0.4227658195886761, 0.5119188139215112, 0.8998106762301177, 0.6019199094735086, 0.973384364740923, 0.8457883577793837, 0.10230070143006742, 0.3111158558167517, 0.35597135149873793, 0.449921409599483, 0.6703815523069352, 0.08942167414352298, 0.8482217204291373, 0.49526528269052505, 0.6807384190615267, 0.353056360501796, 0.3745322248432785, 0.48762523103505373, 0.6237565956544131, 0.6834496348164976, 0.23946090345270932, 0.8963875938206911, 0.7956723587121814, 0.7689533666707575, 0.3387256155256182, 0.4912507524713874, 0.39482540893368423, 0.9998733135871589, 0.36336663854308426, 0.09008890017867088, 0.4626378749962896, 0.5449461718089879, 0.7626983283553272, 0.671073623932898, 0.05994487996213138, 0.9873869395814836, 0.4816748418379575, 0.05217829905450344, 0.31930167018435895, 0.8486315929330885, 0.738294922048226, 0.5911902962252498, 0.26389230671338737, 0.5779000739566982, 0.35667074588127434, 0.6093560010194778, 0.5336649192031473, 0.8357045915909111, 0.42138583422638476, 0.4917836459353566, 0.409318522317335, 0.1494282349012792, 0.2687670246232301, 0.6677289549261332, 0.7747663946356624, 0.26909889886155725, 0.08069550641812384, 0.9238886004313827, 0.9087010200601071, 0.8014835226349533, 0.5965819184202701, 0.7538264729082584, 0.2458855917211622, 0.9506276403553784, 0.7091305090580136, 0.696657762862742, 0.4987970783840865, 0.4429652444086969, 0.9595173590350896, 0.8681158553808928, 0.7802458533551544, 0.9651239612139761, 0.19760766648687422, 0.13712703716009855, 0.617596885887906, 0.6925505395047367, 0.922837094636634, 0.6510180160403252, 0.9992174950893968, 0.7370816511102021, 0.07138218195177615, 0.6624812530353665, 0.8437766663264483, 0.5915850042365491, 0.26524481480009854, 0.8614231068640947, 0.5330209301318973, 0.8997957692481577, 0.7888757626060396, 0.66481979098171, 0.3986518036108464, 0.12947331694886088, 0.8089622755069286, 0.16770614311099052, 0.3039297943469137, 0.9770032693631947, 0.603004744509235, 0.7084222072735429, 0.710629966808483, 0.5815698630176485, 0.8123074241448194, 0.2512426283210516, 0.8719740712549537, 0.8770236247219145, 0.9850082176271826, 0.03951385896652937, 0.04216423514299095, 0.6595693598501384, 0.9247725245077163, 0.22242417931556702, 0.8431432170327753, 0.19939945312216878, 0.6107761508319527, 0.4085315288975835, 0.17920622299425304, 0.47439748188480735, 0.7046022817958146, 0.34917415119707584, 0.34008928551338613, 0.354037141893059, 0.9096775169018656, 0.2048890506848693, 0.1831592048984021, 0.3116014855913818, 0.6988719676155597, 0.09796326234936714, 0.5353300531860441, 0.4928474728949368, 0.17588841752149165, 0.9042429337278008, 0.20533124054782093, 0.2192408344708383, 0.0860655449796468, 0.48732521943748, 0.246952144196257, 0.2538862475194037, 0.24222020828165114, 0.8282579882070422, 0.36388829979114234, 0.40827782405540347, 0.8811537933070213, 0.7538723424077034, 0.5968141553457826, 0.31799491168931127, 0.7164476236794144, 0.21687295008450747, 0.6833073876332492, 0.46546820690855384, 0.7031724334228784, 0.3308111894875765, 0.7312497810926288, 0.7779411808587611, 0.7801369021181017, 0.6130661061033607, 0.0963296692352742, 0.378751817625016, 0.10530025255866349, 0.1389581821858883, 0.6042709385510534, 0.3200596650131047, 0.5499739109072834, 0.5601209187880158, 0.5084135949146003, 0.37514319783076644, 0.4674372293520719, 0.19025523029267788, 0.8232708924915642, 0.21839249366894364, 0.0015922712627798319, 0.6113916514441371, 0.9246880251448601, 0.5711222211830318, 0.4512826588470489, 0.5037853568792343, 0.5572273803409189, 0.14132994087412953, 0.45590148330666125, 0.6525689931586385, 0.6394053555559367, 0.4355247183702886, 0.017913277493789792, 0.33428832329809666, 0.5074057371821254, 0.7707510502077639, 0.627915051067248, 0.536445683799684, 0.4878946419339627, 0.06493310211226344]\n",
            "\n",
            "Aproximación de π/4: 1.0\n"
          ]
        }
      ]
    },
    {
      "cell_type": "markdown",
      "metadata": {
        "id": "q6NjTPHoeeMT"
      },
      "source": [
        "## 4.2.\n",
        "Estimar el valor de $\\frac{\\pi}{4}$ generando 100, 1.000, 10.000, 100.000 y 1.000.000 de puntos usando las mismas semillas para cada secuencia, y calcule la diferencia para cada uno."
      ]
    },
    {
      "cell_type": "code",
      "metadata": {
        "id": "X234Ik_BtOOY",
        "outputId": "299b2579-d81a-4755-ebfd-90828ae8128a",
        "colab": {
          "base_uri": "https://localhost:8080/"
        }
      },
      "source": [
        "value = 0.78539816339\n",
        "\n",
        "def calculate_approximation(N):\n",
        "    a1 = 22695477\n",
        "    a2 = 1664525\n",
        "    c1 = 1\n",
        "    c2 = 1013904223\n",
        "    m1 = 2 ** 32\n",
        "    m2 = m1\n",
        "    x0_1 = 4031\n",
        "    x0_2 = 2022\n",
        "\n",
        "    [I_1, X_1, U_1] = genranN(a1, c1, m1, x0_1, N)\n",
        "    [I_2, X_2, U_2] = genranN(a2, c2, m2, x0_2, N)\n",
        "\n",
        "    res = aprox(U_1, U_2)\n",
        "    diff = abs(value - res)\n",
        "\n",
        "    return res, diff\n",
        "\n",
        "N_values = [100, 1000, 10000, 100000, 1000000]\n",
        "\n",
        "for N in N_values:\n",
        "    res, diff = calculate_approximation(N)\n",
        "    print(f\"2 secuencias aleatorias teniendo N={N} para un valor de π/4: {res} y una diferencia de: {diff}\")\n",
        "    print(\"----------------------------------------------------------------------------------------------\")\n"
      ],
      "execution_count": 21,
      "outputs": [
        {
          "output_type": "stream",
          "name": "stdout",
          "text": [
            "2 secuencias aleatorias teniendo N=100 para un valor de π/4: 1.0 y una diferencia de: 0.21460183660999999\n",
            "----------------------------------------------------------------------------------------------\n",
            "2 secuencias aleatorias teniendo N=1000 para un valor de π/4: 1.0 y una diferencia de: 0.21460183660999999\n",
            "----------------------------------------------------------------------------------------------\n",
            "2 secuencias aleatorias teniendo N=10000 para un valor de π/4: 1.0 y una diferencia de: 0.21460183660999999\n",
            "----------------------------------------------------------------------------------------------\n",
            "2 secuencias aleatorias teniendo N=100000 para un valor de π/4: 1.0 y una diferencia de: 0.21460183660999999\n",
            "----------------------------------------------------------------------------------------------\n",
            "2 secuencias aleatorias teniendo N=1000000 para un valor de π/4: 1.0 y una diferencia de: 0.21460183660999999\n",
            "----------------------------------------------------------------------------------------------\n"
          ]
        }
      ]
    }
  ]
}